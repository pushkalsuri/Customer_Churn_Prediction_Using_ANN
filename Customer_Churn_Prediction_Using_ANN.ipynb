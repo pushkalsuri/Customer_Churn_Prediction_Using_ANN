{
  "nbformat": 4,
  "nbformat_minor": 0,
  "metadata": {
    "colab": {
      "provenance": []
    },
    "kernelspec": {
      "name": "python3",
      "display_name": "Python 3"
    },
    "language_info": {
      "name": "python"
    },
    "accelerator": "TPU",
    "gpuClass": "standard"
  },
  "cells": [
    {
      "cell_type": "markdown",
      "source": [
        "**Name: Pushkal Suri**\n",
        "\n",
        "**Student ID: 100799314**\n",
        "\n",
        "**Course: APPLIED MACHINE LEARNING**\n",
        "\n",
        "**Final Project (Solving a Real-World Problem using Deep Learning)**"
      ],
      "metadata": {
        "id": "iBzlcYQ7x2Al"
      }
    },
    {
      "cell_type": "markdown",
      "source": [
        "**Problem Definition:**\n",
        "The problem chosen for this project is to predict customer churn for a bank using an Artificial Neural Network (ANN). Customer churn refers to the phenomenon where customers stop doing business with a company or organization. In the banking industry, it is crucial to identify customers who are likely to churn, as customer acquisition is expensive, and retaining existing customers can be more cost-effective. By predicting which customers are likely to churn, the bank can take steps to retain them, such as offering incentives, personalized services, or special promotions.\n",
        "\n",
        "\n",
        "**Data Collection:**\n",
        "The data for this project was collected from Kaggle's \"Churn Modelling\" dataset, which contains information about bank customers, including their demographic information, credit score, account balance, and other variables. The dataset can be accessed from the following link: https://www.kaggle.com/shubh0799/churn-modelling\n",
        "\n",
        "**Model Selection and Implementation:**\n",
        "For this project, an Artificial Neural Network (ANN) model was selected for predicting customer churn. ANN is a deep learning algorithm that can learn complex patterns in data and make accurate predictions. The model was implemented using Python and the Keras deep learning framework. \n",
        "\n",
        "\n",
        "\n",
        "> **Model 1 Implementation**\n",
        "1. Initializing the ANN: The first step is to create an instance of the Sequential class from Keras, which will be used to build the ANN.\n",
        "2. Adding the input and hidden layers: The next step is to add the input layer and the first hidden layer to the ANN using the add method from Keras. The first hidden layer contains 6 neurons and uses the ReLU activation function. The weights of the neurons are initialized using the \"he_uniform\" method, which is suitable for ReLU activation functions.\n",
        "3. Adding additional hidden layers: The implementation then adds a second hidden layer, also with 6 neurons and using the ReLU activation function. The weights of the neurons in this layer are also initialized using the \"he_uniform\" method.\n",
        "4. Adding the output layer: The output layer is added to the ANN, which contains a single neuron and uses the sigmoid activation function. The weights of the neuron are initialized using the \"glorot_uniform\" method, which is suitable for sigmoid activation functions.\n",
        "5. Compiling the ANN: The ANN is compiled using the compile method from Keras, which specifies the optimizer, loss function, and performance metric used for training the model. In this case, we are using the Adam optimizer, binary cross-entropy loss function, and accuracy as the performance metric.\n",
        "\n",
        "\n",
        "\n",
        "> **Model 2 Implementation**\n",
        "1. Define a function to create the Keras model: Built create_model function which takes three arguments: the layers of the neural network, the activation function , and the rate of the dropout layers. The function uses a loop to add layers to the neural network, based on the number of nodes specified in each layer. The first layer also takes the input dimensionality of the dataset into consideration. The activation function and dropout regularization are also added to each layer as specified in the function arguments. Finally, a dense layer with a sigmoid activation function is added as the output layer, and the model is compiled with the binary cross-entropy loss function and the Adam optimizer. Other hyper parameters like batch normalisation and learning were also used.\n",
        "2. Create a Keras classifier using KerasClassifier: The KerasClassifier function from the Keras wrapper library is used to create a Keras-based classifier model.\n",
        "3. Define the hyperparameter grid for Grid Search: A dictionary named param_grid is defined that specifies the hyperparameters to be tuned and the possible values for each hyperparameter.\n",
        "4. Define the Grid Search object: The GridSearchCV function from the Scikit-learn library is used to create a Grid Search object, which takes the Keras classifier model and the hyperparameter grid as input.\n",
        "\n",
        "\n",
        "\n",
        "\n",
        "\n",
        "**Model Evaluation and Interpretation:**\n",
        "The performance of the ANN model was evaluated on a test dataset, which was randomly sampled from the original dataset. The model was trained on 80% of the data and tested on the remaining 20%. Training Dataset also contain 33% validation data. The evaluation metrics used were accuracy, precision, recall, F1-score. The model was also evaluated using GridsearchCV to find the best parameters for the ANN model. The results of the model evaluation showed that the ANN model with GridsearchCV performed better than the ANN model without GridsearchCV, with an accuracy of 85.75% and 85.25%, respectively. The results indicate that the ANN model with GridsearchCV is capable of accurately predicting customer churn and can be used as a tool to help banks identify at-risk customers and take steps to retain them. \n",
        "\n",
        "**Presentation and Communication:**\n",
        "The work was presented effectively, with a clear and organized structure. The presentation included appropriate visual aids like confustion matrix, classification report, line graphs for Model accuracy and Model Loss to help communicate the results. The results were interpreted and explained in a clear and concise manner, with a focus on how the ANN model can be applied in the real world to help banks retain customers and improve their business."
      ],
      "metadata": {
        "id": "14CmpCLh3Miz"
      }
    },
    {
      "cell_type": "code",
      "source": [
        "!pip install keras-tuner"
      ],
      "metadata": {
        "colab": {
          "base_uri": "https://localhost:8080/"
        },
        "id": "21bS-gYhZs81",
        "outputId": "3cd71b74-4bd5-46f6-b633-6abab6194d5b"
      },
      "execution_count": 1,
      "outputs": [
        {
          "output_type": "stream",
          "name": "stdout",
          "text": [
            "Looking in indexes: https://pypi.org/simple, https://us-python.pkg.dev/colab-wheels/public/simple/\n",
            "Collecting keras-tuner\n",
            "  Downloading keras_tuner-1.3.3-py3-none-any.whl (172 kB)\n",
            "\u001b[2K     \u001b[90m━━━━━━━━━━━━━━━━━━━━━━━━━━━━━━━━━━━━━━━\u001b[0m \u001b[32m172.1/172.1 KB\u001b[0m \u001b[31m1.7 MB/s\u001b[0m eta \u001b[36m0:00:00\u001b[0m\n",
            "\u001b[?25hRequirement already satisfied: protobuf<=3.20.3 in /usr/local/lib/python3.9/dist-packages (from keras-tuner) (3.19.6)\n",
            "Requirement already satisfied: packaging in /usr/local/lib/python3.9/dist-packages (from keras-tuner) (23.0)\n",
            "Requirement already satisfied: requests in /usr/local/lib/python3.9/dist-packages (from keras-tuner) (2.27.1)\n",
            "Collecting kt-legacy\n",
            "  Downloading kt_legacy-1.0.4-py3-none-any.whl (9.6 kB)\n",
            "Requirement already satisfied: tensorflow>=2.0 in /usr/local/lib/python3.9/dist-packages (from keras-tuner) (2.11.0)\n",
            "Requirement already satisfied: keras<2.12,>=2.11.0 in /usr/local/lib/python3.9/dist-packages (from tensorflow>=2.0->keras-tuner) (2.11.0)\n",
            "Requirement already satisfied: grpcio<2.0,>=1.24.3 in /usr/local/lib/python3.9/dist-packages (from tensorflow>=2.0->keras-tuner) (1.51.3)\n",
            "Requirement already satisfied: opt-einsum>=2.3.2 in /usr/local/lib/python3.9/dist-packages (from tensorflow>=2.0->keras-tuner) (3.3.0)\n",
            "Requirement already satisfied: libclang>=13.0.0 in /usr/local/lib/python3.9/dist-packages (from tensorflow>=2.0->keras-tuner) (16.0.0)\n",
            "Requirement already satisfied: tensorflow-io-gcs-filesystem>=0.23.1 in /usr/local/lib/python3.9/dist-packages (from tensorflow>=2.0->keras-tuner) (0.31.0)\n",
            "Requirement already satisfied: absl-py>=1.0.0 in /usr/local/lib/python3.9/dist-packages (from tensorflow>=2.0->keras-tuner) (1.4.0)\n",
            "Requirement already satisfied: wrapt>=1.11.0 in /usr/local/lib/python3.9/dist-packages (from tensorflow>=2.0->keras-tuner) (1.15.0)\n",
            "Requirement already satisfied: tensorboard<2.12,>=2.11 in /usr/local/lib/python3.9/dist-packages (from tensorflow>=2.0->keras-tuner) (2.11.2)\n",
            "Requirement already satisfied: gast<=0.4.0,>=0.2.1 in /usr/local/lib/python3.9/dist-packages (from tensorflow>=2.0->keras-tuner) (0.4.0)\n",
            "Requirement already satisfied: h5py>=2.9.0 in /usr/local/lib/python3.9/dist-packages (from tensorflow>=2.0->keras-tuner) (3.8.0)\n",
            "Requirement already satisfied: numpy>=1.20 in /usr/local/lib/python3.9/dist-packages (from tensorflow>=2.0->keras-tuner) (1.24.2)\n",
            "Requirement already satisfied: setuptools in /usr/local/lib/python3.9/dist-packages (from tensorflow>=2.0->keras-tuner) (67.6.1)\n",
            "Requirement already satisfied: google-pasta>=0.1.1 in /usr/local/lib/python3.9/dist-packages (from tensorflow>=2.0->keras-tuner) (0.2.0)\n",
            "Requirement already satisfied: tensorflow-estimator<2.12,>=2.11.0 in /usr/local/lib/python3.9/dist-packages (from tensorflow>=2.0->keras-tuner) (2.11.0)\n",
            "Requirement already satisfied: typing-extensions>=3.6.6 in /usr/local/lib/python3.9/dist-packages (from tensorflow>=2.0->keras-tuner) (4.5.0)\n",
            "Requirement already satisfied: flatbuffers>=2.0 in /usr/local/lib/python3.9/dist-packages (from tensorflow>=2.0->keras-tuner) (23.3.3)\n",
            "Requirement already satisfied: astunparse>=1.6.0 in /usr/local/lib/python3.9/dist-packages (from tensorflow>=2.0->keras-tuner) (1.6.3)\n",
            "Requirement already satisfied: six>=1.12.0 in /usr/local/lib/python3.9/dist-packages (from tensorflow>=2.0->keras-tuner) (1.16.0)\n",
            "Requirement already satisfied: termcolor>=1.1.0 in /usr/local/lib/python3.9/dist-packages (from tensorflow>=2.0->keras-tuner) (2.2.0)\n",
            "Requirement already satisfied: urllib3<1.27,>=1.21.1 in /usr/local/lib/python3.9/dist-packages (from requests->keras-tuner) (1.26.15)\n",
            "Requirement already satisfied: idna<4,>=2.5 in /usr/local/lib/python3.9/dist-packages (from requests->keras-tuner) (3.4)\n",
            "Requirement already satisfied: certifi>=2017.4.17 in /usr/local/lib/python3.9/dist-packages (from requests->keras-tuner) (2022.12.7)\n",
            "Requirement already satisfied: charset-normalizer~=2.0.0 in /usr/local/lib/python3.9/dist-packages (from requests->keras-tuner) (2.0.12)\n",
            "Requirement already satisfied: wheel<1.0,>=0.23.0 in /usr/local/lib/python3.9/dist-packages (from astunparse>=1.6.0->tensorflow>=2.0->keras-tuner) (0.40.0)\n",
            "Requirement already satisfied: google-auth-oauthlib<0.5,>=0.4.1 in /usr/local/lib/python3.9/dist-packages (from tensorboard<2.12,>=2.11->tensorflow>=2.0->keras-tuner) (0.4.6)\n",
            "Requirement already satisfied: werkzeug>=1.0.1 in /usr/local/lib/python3.9/dist-packages (from tensorboard<2.12,>=2.11->tensorflow>=2.0->keras-tuner) (2.2.3)\n",
            "Requirement already satisfied: tensorboard-plugin-wit>=1.6.0 in /usr/local/lib/python3.9/dist-packages (from tensorboard<2.12,>=2.11->tensorflow>=2.0->keras-tuner) (1.8.1)\n",
            "Requirement already satisfied: markdown>=2.6.8 in /usr/local/lib/python3.9/dist-packages (from tensorboard<2.12,>=2.11->tensorflow>=2.0->keras-tuner) (3.4.3)\n",
            "Requirement already satisfied: google-auth<3,>=1.6.3 in /usr/local/lib/python3.9/dist-packages (from tensorboard<2.12,>=2.11->tensorflow>=2.0->keras-tuner) (2.16.3)\n",
            "Requirement already satisfied: tensorboard-data-server<0.7.0,>=0.6.0 in /usr/local/lib/python3.9/dist-packages (from tensorboard<2.12,>=2.11->tensorflow>=2.0->keras-tuner) (0.6.1)\n",
            "Requirement already satisfied: cachetools<6.0,>=2.0.0 in /usr/local/lib/python3.9/dist-packages (from google-auth<3,>=1.6.3->tensorboard<2.12,>=2.11->tensorflow>=2.0->keras-tuner) (5.3.0)\n",
            "Requirement already satisfied: pyasn1-modules>=0.2.1 in /usr/local/lib/python3.9/dist-packages (from google-auth<3,>=1.6.3->tensorboard<2.12,>=2.11->tensorflow>=2.0->keras-tuner) (0.2.8)\n",
            "Requirement already satisfied: rsa<5,>=3.1.4 in /usr/local/lib/python3.9/dist-packages (from google-auth<3,>=1.6.3->tensorboard<2.12,>=2.11->tensorflow>=2.0->keras-tuner) (4.9)\n",
            "Requirement already satisfied: requests-oauthlib>=0.7.0 in /usr/local/lib/python3.9/dist-packages (from google-auth-oauthlib<0.5,>=0.4.1->tensorboard<2.12,>=2.11->tensorflow>=2.0->keras-tuner) (1.3.1)\n",
            "Requirement already satisfied: importlib-metadata>=4.4 in /usr/local/lib/python3.9/dist-packages (from markdown>=2.6.8->tensorboard<2.12,>=2.11->tensorflow>=2.0->keras-tuner) (6.1.0)\n",
            "Requirement already satisfied: MarkupSafe>=2.1.1 in /usr/local/lib/python3.9/dist-packages (from werkzeug>=1.0.1->tensorboard<2.12,>=2.11->tensorflow>=2.0->keras-tuner) (2.1.2)\n",
            "Requirement already satisfied: zipp>=0.5 in /usr/local/lib/python3.9/dist-packages (from importlib-metadata>=4.4->markdown>=2.6.8->tensorboard<2.12,>=2.11->tensorflow>=2.0->keras-tuner) (3.15.0)\n",
            "Requirement already satisfied: pyasn1<0.5.0,>=0.4.6 in /usr/local/lib/python3.9/dist-packages (from pyasn1-modules>=0.2.1->google-auth<3,>=1.6.3->tensorboard<2.12,>=2.11->tensorflow>=2.0->keras-tuner) (0.4.8)\n",
            "Requirement already satisfied: oauthlib>=3.0.0 in /usr/local/lib/python3.9/dist-packages (from requests-oauthlib>=0.7.0->google-auth-oauthlib<0.5,>=0.4.1->tensorboard<2.12,>=2.11->tensorflow>=2.0->keras-tuner) (3.2.2)\n",
            "Installing collected packages: kt-legacy, keras-tuner\n",
            "Successfully installed keras-tuner-1.3.3 kt-legacy-1.0.4\n"
          ]
        }
      ]
    },
    {
      "cell_type": "code",
      "execution_count": 2,
      "metadata": {
        "colab": {
          "base_uri": "https://localhost:8080/"
        },
        "id": "uJo5oPNoZCQB",
        "outputId": "10bbc5e8-779f-4f6b-e269-06be24ea0b6e"
      },
      "outputs": [
        {
          "output_type": "stream",
          "name": "stderr",
          "text": [
            "<ipython-input-2-5fc1a153b104>:8: DeprecationWarning: `import kerastuner` is deprecated, please use `import keras_tuner`.\n",
            "  from kerastuner.tuners import RandomSearch\n"
          ]
        }
      ],
      "source": [
        "# Importing the libraries\n",
        "import numpy as np\n",
        "import pandas as pd\n",
        "import seaborn as sns\n",
        "import matplotlib.pyplot as plt\n",
        "import sklearn\n",
        "from tensorflow import keras\n",
        "from kerastuner.tuners import RandomSearch\n",
        "from keras.models import Sequential\n",
        "from keras.layers import Dense, Activation, Embedding, Flatten, LeakyReLU, BatchNormalization, Dropout\n",
        "from sklearn.preprocessing import LabelEncoder, OneHotEncoder\n",
        "from keras.activations import relu, sigmoid\n",
        "from keras.layers import LeakyReLU\n",
        "from sklearn.preprocessing import StandardScaler\n",
        "from keras.models import Sequential\n",
        "from keras.layers import Dense\n",
        "from keras.layers import LeakyReLU,PReLU,ELU\n",
        "from keras.layers import Dropout\n",
        "from sklearn.metrics import ConfusionMatrixDisplay\n",
        "from sklearn.metrics import confusion_matrix, classification_report\n",
        "%matplotlib inline"
      ]
    },
    {
      "cell_type": "code",
      "source": [
        "# Uploading Dataset to the Drive\n",
        "from google.colab import files\n",
        "uploaded = files.upload()"
      ],
      "metadata": {
        "colab": {
          "base_uri": "https://localhost:8080/",
          "height": 73
        },
        "id": "e15DnnTcafEN",
        "outputId": "6ee17c70-9675-46db-9e7a-a5cef889dda5"
      },
      "execution_count": 4,
      "outputs": [
        {
          "output_type": "display_data",
          "data": {
            "text/plain": [
              "<IPython.core.display.HTML object>"
            ],
            "text/html": [
              "\n",
              "     <input type=\"file\" id=\"files-14785bf6-81a2-42e0-bf75-3ae1699b7c32\" name=\"files[]\" multiple disabled\n",
              "        style=\"border:none\" />\n",
              "     <output id=\"result-14785bf6-81a2-42e0-bf75-3ae1699b7c32\">\n",
              "      Upload widget is only available when the cell has been executed in the\n",
              "      current browser session. Please rerun this cell to enable.\n",
              "      </output>\n",
              "      <script>// Copyright 2017 Google LLC\n",
              "//\n",
              "// Licensed under the Apache License, Version 2.0 (the \"License\");\n",
              "// you may not use this file except in compliance with the License.\n",
              "// You may obtain a copy of the License at\n",
              "//\n",
              "//      http://www.apache.org/licenses/LICENSE-2.0\n",
              "//\n",
              "// Unless required by applicable law or agreed to in writing, software\n",
              "// distributed under the License is distributed on an \"AS IS\" BASIS,\n",
              "// WITHOUT WARRANTIES OR CONDITIONS OF ANY KIND, either express or implied.\n",
              "// See the License for the specific language governing permissions and\n",
              "// limitations under the License.\n",
              "\n",
              "/**\n",
              " * @fileoverview Helpers for google.colab Python module.\n",
              " */\n",
              "(function(scope) {\n",
              "function span(text, styleAttributes = {}) {\n",
              "  const element = document.createElement('span');\n",
              "  element.textContent = text;\n",
              "  for (const key of Object.keys(styleAttributes)) {\n",
              "    element.style[key] = styleAttributes[key];\n",
              "  }\n",
              "  return element;\n",
              "}\n",
              "\n",
              "// Max number of bytes which will be uploaded at a time.\n",
              "const MAX_PAYLOAD_SIZE = 100 * 1024;\n",
              "\n",
              "function _uploadFiles(inputId, outputId) {\n",
              "  const steps = uploadFilesStep(inputId, outputId);\n",
              "  const outputElement = document.getElementById(outputId);\n",
              "  // Cache steps on the outputElement to make it available for the next call\n",
              "  // to uploadFilesContinue from Python.\n",
              "  outputElement.steps = steps;\n",
              "\n",
              "  return _uploadFilesContinue(outputId);\n",
              "}\n",
              "\n",
              "// This is roughly an async generator (not supported in the browser yet),\n",
              "// where there are multiple asynchronous steps and the Python side is going\n",
              "// to poll for completion of each step.\n",
              "// This uses a Promise to block the python side on completion of each step,\n",
              "// then passes the result of the previous step as the input to the next step.\n",
              "function _uploadFilesContinue(outputId) {\n",
              "  const outputElement = document.getElementById(outputId);\n",
              "  const steps = outputElement.steps;\n",
              "\n",
              "  const next = steps.next(outputElement.lastPromiseValue);\n",
              "  return Promise.resolve(next.value.promise).then((value) => {\n",
              "    // Cache the last promise value to make it available to the next\n",
              "    // step of the generator.\n",
              "    outputElement.lastPromiseValue = value;\n",
              "    return next.value.response;\n",
              "  });\n",
              "}\n",
              "\n",
              "/**\n",
              " * Generator function which is called between each async step of the upload\n",
              " * process.\n",
              " * @param {string} inputId Element ID of the input file picker element.\n",
              " * @param {string} outputId Element ID of the output display.\n",
              " * @return {!Iterable<!Object>} Iterable of next steps.\n",
              " */\n",
              "function* uploadFilesStep(inputId, outputId) {\n",
              "  const inputElement = document.getElementById(inputId);\n",
              "  inputElement.disabled = false;\n",
              "\n",
              "  const outputElement = document.getElementById(outputId);\n",
              "  outputElement.innerHTML = '';\n",
              "\n",
              "  const pickedPromise = new Promise((resolve) => {\n",
              "    inputElement.addEventListener('change', (e) => {\n",
              "      resolve(e.target.files);\n",
              "    });\n",
              "  });\n",
              "\n",
              "  const cancel = document.createElement('button');\n",
              "  inputElement.parentElement.appendChild(cancel);\n",
              "  cancel.textContent = 'Cancel upload';\n",
              "  const cancelPromise = new Promise((resolve) => {\n",
              "    cancel.onclick = () => {\n",
              "      resolve(null);\n",
              "    };\n",
              "  });\n",
              "\n",
              "  // Wait for the user to pick the files.\n",
              "  const files = yield {\n",
              "    promise: Promise.race([pickedPromise, cancelPromise]),\n",
              "    response: {\n",
              "      action: 'starting',\n",
              "    }\n",
              "  };\n",
              "\n",
              "  cancel.remove();\n",
              "\n",
              "  // Disable the input element since further picks are not allowed.\n",
              "  inputElement.disabled = true;\n",
              "\n",
              "  if (!files) {\n",
              "    return {\n",
              "      response: {\n",
              "        action: 'complete',\n",
              "      }\n",
              "    };\n",
              "  }\n",
              "\n",
              "  for (const file of files) {\n",
              "    const li = document.createElement('li');\n",
              "    li.append(span(file.name, {fontWeight: 'bold'}));\n",
              "    li.append(span(\n",
              "        `(${file.type || 'n/a'}) - ${file.size} bytes, ` +\n",
              "        `last modified: ${\n",
              "            file.lastModifiedDate ? file.lastModifiedDate.toLocaleDateString() :\n",
              "                                    'n/a'} - `));\n",
              "    const percent = span('0% done');\n",
              "    li.appendChild(percent);\n",
              "\n",
              "    outputElement.appendChild(li);\n",
              "\n",
              "    const fileDataPromise = new Promise((resolve) => {\n",
              "      const reader = new FileReader();\n",
              "      reader.onload = (e) => {\n",
              "        resolve(e.target.result);\n",
              "      };\n",
              "      reader.readAsArrayBuffer(file);\n",
              "    });\n",
              "    // Wait for the data to be ready.\n",
              "    let fileData = yield {\n",
              "      promise: fileDataPromise,\n",
              "      response: {\n",
              "        action: 'continue',\n",
              "      }\n",
              "    };\n",
              "\n",
              "    // Use a chunked sending to avoid message size limits. See b/62115660.\n",
              "    let position = 0;\n",
              "    do {\n",
              "      const length = Math.min(fileData.byteLength - position, MAX_PAYLOAD_SIZE);\n",
              "      const chunk = new Uint8Array(fileData, position, length);\n",
              "      position += length;\n",
              "\n",
              "      const base64 = btoa(String.fromCharCode.apply(null, chunk));\n",
              "      yield {\n",
              "        response: {\n",
              "          action: 'append',\n",
              "          file: file.name,\n",
              "          data: base64,\n",
              "        },\n",
              "      };\n",
              "\n",
              "      let percentDone = fileData.byteLength === 0 ?\n",
              "          100 :\n",
              "          Math.round((position / fileData.byteLength) * 100);\n",
              "      percent.textContent = `${percentDone}% done`;\n",
              "\n",
              "    } while (position < fileData.byteLength);\n",
              "  }\n",
              "\n",
              "  // All done.\n",
              "  yield {\n",
              "    response: {\n",
              "      action: 'complete',\n",
              "    }\n",
              "  };\n",
              "}\n",
              "\n",
              "scope.google = scope.google || {};\n",
              "scope.google.colab = scope.google.colab || {};\n",
              "scope.google.colab._files = {\n",
              "  _uploadFiles,\n",
              "  _uploadFilesContinue,\n",
              "};\n",
              "})(self);\n",
              "</script> "
            ]
          },
          "metadata": {}
        },
        {
          "output_type": "stream",
          "name": "stdout",
          "text": [
            "Saving Churn_Modelling.csv to Churn_Modelling (1).csv\n"
          ]
        }
      ]
    },
    {
      "cell_type": "code",
      "source": [
        "#Putting Dataset into Dataframe \n",
        "data = pd.read_csv(\"Churn_Modelling.csv\")\n",
        "data.head()"
      ],
      "metadata": {
        "colab": {
          "base_uri": "https://localhost:8080/",
          "height": 270
        },
        "id": "qdxLRdqicJil",
        "outputId": "0b0da1a6-dca0-42f8-eb9f-2de93495a3e8"
      },
      "execution_count": 5,
      "outputs": [
        {
          "output_type": "execute_result",
          "data": {
            "text/plain": [
              "   RowNumber  CustomerId   Surname  CreditScore Geography  Gender  Age  \\\n",
              "0          1    15634602  Hargrave          619    France  Female   42   \n",
              "1          2    15647311      Hill          608     Spain  Female   41   \n",
              "2          3    15619304      Onio          502    France  Female   42   \n",
              "3          4    15701354      Boni          699    France  Female   39   \n",
              "4          5    15737888  Mitchell          850     Spain  Female   43   \n",
              "\n",
              "   Tenure    Balance  NumOfProducts  HasCrCard  IsActiveMember  \\\n",
              "0       2       0.00              1          1               1   \n",
              "1       1   83807.86              1          0               1   \n",
              "2       8  159660.80              3          1               0   \n",
              "3       1       0.00              2          0               0   \n",
              "4       2  125510.82              1          1               1   \n",
              "\n",
              "   EstimatedSalary  Exited  \n",
              "0        101348.88       1  \n",
              "1        112542.58       0  \n",
              "2        113931.57       1  \n",
              "3         93826.63       0  \n",
              "4         79084.10       0  "
            ],
            "text/html": [
              "\n",
              "  <div id=\"df-f5e459a3-bc9f-47be-8308-a42f7e9a185a\">\n",
              "    <div class=\"colab-df-container\">\n",
              "      <div>\n",
              "<style scoped>\n",
              "    .dataframe tbody tr th:only-of-type {\n",
              "        vertical-align: middle;\n",
              "    }\n",
              "\n",
              "    .dataframe tbody tr th {\n",
              "        vertical-align: top;\n",
              "    }\n",
              "\n",
              "    .dataframe thead th {\n",
              "        text-align: right;\n",
              "    }\n",
              "</style>\n",
              "<table border=\"1\" class=\"dataframe\">\n",
              "  <thead>\n",
              "    <tr style=\"text-align: right;\">\n",
              "      <th></th>\n",
              "      <th>RowNumber</th>\n",
              "      <th>CustomerId</th>\n",
              "      <th>Surname</th>\n",
              "      <th>CreditScore</th>\n",
              "      <th>Geography</th>\n",
              "      <th>Gender</th>\n",
              "      <th>Age</th>\n",
              "      <th>Tenure</th>\n",
              "      <th>Balance</th>\n",
              "      <th>NumOfProducts</th>\n",
              "      <th>HasCrCard</th>\n",
              "      <th>IsActiveMember</th>\n",
              "      <th>EstimatedSalary</th>\n",
              "      <th>Exited</th>\n",
              "    </tr>\n",
              "  </thead>\n",
              "  <tbody>\n",
              "    <tr>\n",
              "      <th>0</th>\n",
              "      <td>1</td>\n",
              "      <td>15634602</td>\n",
              "      <td>Hargrave</td>\n",
              "      <td>619</td>\n",
              "      <td>France</td>\n",
              "      <td>Female</td>\n",
              "      <td>42</td>\n",
              "      <td>2</td>\n",
              "      <td>0.00</td>\n",
              "      <td>1</td>\n",
              "      <td>1</td>\n",
              "      <td>1</td>\n",
              "      <td>101348.88</td>\n",
              "      <td>1</td>\n",
              "    </tr>\n",
              "    <tr>\n",
              "      <th>1</th>\n",
              "      <td>2</td>\n",
              "      <td>15647311</td>\n",
              "      <td>Hill</td>\n",
              "      <td>608</td>\n",
              "      <td>Spain</td>\n",
              "      <td>Female</td>\n",
              "      <td>41</td>\n",
              "      <td>1</td>\n",
              "      <td>83807.86</td>\n",
              "      <td>1</td>\n",
              "      <td>0</td>\n",
              "      <td>1</td>\n",
              "      <td>112542.58</td>\n",
              "      <td>0</td>\n",
              "    </tr>\n",
              "    <tr>\n",
              "      <th>2</th>\n",
              "      <td>3</td>\n",
              "      <td>15619304</td>\n",
              "      <td>Onio</td>\n",
              "      <td>502</td>\n",
              "      <td>France</td>\n",
              "      <td>Female</td>\n",
              "      <td>42</td>\n",
              "      <td>8</td>\n",
              "      <td>159660.80</td>\n",
              "      <td>3</td>\n",
              "      <td>1</td>\n",
              "      <td>0</td>\n",
              "      <td>113931.57</td>\n",
              "      <td>1</td>\n",
              "    </tr>\n",
              "    <tr>\n",
              "      <th>3</th>\n",
              "      <td>4</td>\n",
              "      <td>15701354</td>\n",
              "      <td>Boni</td>\n",
              "      <td>699</td>\n",
              "      <td>France</td>\n",
              "      <td>Female</td>\n",
              "      <td>39</td>\n",
              "      <td>1</td>\n",
              "      <td>0.00</td>\n",
              "      <td>2</td>\n",
              "      <td>0</td>\n",
              "      <td>0</td>\n",
              "      <td>93826.63</td>\n",
              "      <td>0</td>\n",
              "    </tr>\n",
              "    <tr>\n",
              "      <th>4</th>\n",
              "      <td>5</td>\n",
              "      <td>15737888</td>\n",
              "      <td>Mitchell</td>\n",
              "      <td>850</td>\n",
              "      <td>Spain</td>\n",
              "      <td>Female</td>\n",
              "      <td>43</td>\n",
              "      <td>2</td>\n",
              "      <td>125510.82</td>\n",
              "      <td>1</td>\n",
              "      <td>1</td>\n",
              "      <td>1</td>\n",
              "      <td>79084.10</td>\n",
              "      <td>0</td>\n",
              "    </tr>\n",
              "  </tbody>\n",
              "</table>\n",
              "</div>\n",
              "      <button class=\"colab-df-convert\" onclick=\"convertToInteractive('df-f5e459a3-bc9f-47be-8308-a42f7e9a185a')\"\n",
              "              title=\"Convert this dataframe to an interactive table.\"\n",
              "              style=\"display:none;\">\n",
              "        \n",
              "  <svg xmlns=\"http://www.w3.org/2000/svg\" height=\"24px\"viewBox=\"0 0 24 24\"\n",
              "       width=\"24px\">\n",
              "    <path d=\"M0 0h24v24H0V0z\" fill=\"none\"/>\n",
              "    <path d=\"M18.56 5.44l.94 2.06.94-2.06 2.06-.94-2.06-.94-.94-2.06-.94 2.06-2.06.94zm-11 1L8.5 8.5l.94-2.06 2.06-.94-2.06-.94L8.5 2.5l-.94 2.06-2.06.94zm10 10l.94 2.06.94-2.06 2.06-.94-2.06-.94-.94-2.06-.94 2.06-2.06.94z\"/><path d=\"M17.41 7.96l-1.37-1.37c-.4-.4-.92-.59-1.43-.59-.52 0-1.04.2-1.43.59L10.3 9.45l-7.72 7.72c-.78.78-.78 2.05 0 2.83L4 21.41c.39.39.9.59 1.41.59.51 0 1.02-.2 1.41-.59l7.78-7.78 2.81-2.81c.8-.78.8-2.07 0-2.86zM5.41 20L4 18.59l7.72-7.72 1.47 1.35L5.41 20z\"/>\n",
              "  </svg>\n",
              "      </button>\n",
              "      \n",
              "  <style>\n",
              "    .colab-df-container {\n",
              "      display:flex;\n",
              "      flex-wrap:wrap;\n",
              "      gap: 12px;\n",
              "    }\n",
              "\n",
              "    .colab-df-convert {\n",
              "      background-color: #E8F0FE;\n",
              "      border: none;\n",
              "      border-radius: 50%;\n",
              "      cursor: pointer;\n",
              "      display: none;\n",
              "      fill: #1967D2;\n",
              "      height: 32px;\n",
              "      padding: 0 0 0 0;\n",
              "      width: 32px;\n",
              "    }\n",
              "\n",
              "    .colab-df-convert:hover {\n",
              "      background-color: #E2EBFA;\n",
              "      box-shadow: 0px 1px 2px rgba(60, 64, 67, 0.3), 0px 1px 3px 1px rgba(60, 64, 67, 0.15);\n",
              "      fill: #174EA6;\n",
              "    }\n",
              "\n",
              "    [theme=dark] .colab-df-convert {\n",
              "      background-color: #3B4455;\n",
              "      fill: #D2E3FC;\n",
              "    }\n",
              "\n",
              "    [theme=dark] .colab-df-convert:hover {\n",
              "      background-color: #434B5C;\n",
              "      box-shadow: 0px 1px 3px 1px rgba(0, 0, 0, 0.15);\n",
              "      filter: drop-shadow(0px 1px 2px rgba(0, 0, 0, 0.3));\n",
              "      fill: #FFFFFF;\n",
              "    }\n",
              "  </style>\n",
              "\n",
              "      <script>\n",
              "        const buttonEl =\n",
              "          document.querySelector('#df-f5e459a3-bc9f-47be-8308-a42f7e9a185a button.colab-df-convert');\n",
              "        buttonEl.style.display =\n",
              "          google.colab.kernel.accessAllowed ? 'block' : 'none';\n",
              "\n",
              "        async function convertToInteractive(key) {\n",
              "          const element = document.querySelector('#df-f5e459a3-bc9f-47be-8308-a42f7e9a185a');\n",
              "          const dataTable =\n",
              "            await google.colab.kernel.invokeFunction('convertToInteractive',\n",
              "                                                     [key], {});\n",
              "          if (!dataTable) return;\n",
              "\n",
              "          const docLinkHtml = 'Like what you see? Visit the ' +\n",
              "            '<a target=\"_blank\" href=https://colab.research.google.com/notebooks/data_table.ipynb>data table notebook</a>'\n",
              "            + ' to learn more about interactive tables.';\n",
              "          element.innerHTML = '';\n",
              "          dataTable['output_type'] = 'display_data';\n",
              "          await google.colab.output.renderOutput(dataTable, element);\n",
              "          const docLink = document.createElement('div');\n",
              "          docLink.innerHTML = docLinkHtml;\n",
              "          element.appendChild(docLink);\n",
              "        }\n",
              "      </script>\n",
              "    </div>\n",
              "  </div>\n",
              "  "
            ]
          },
          "metadata": {},
          "execution_count": 5
        }
      ]
    },
    {
      "cell_type": "code",
      "source": [
        "#Checking the number of Rows and Col in the dataset\n",
        "data.shape"
      ],
      "metadata": {
        "colab": {
          "base_uri": "https://localhost:8080/"
        },
        "id": "2bOzsiB1sTgb",
        "outputId": "5dc6e507-12ac-4e1d-8045-84cfee8fd1df"
      },
      "execution_count": 6,
      "outputs": [
        {
          "output_type": "execute_result",
          "data": {
            "text/plain": [
              "(10000, 14)"
            ]
          },
          "metadata": {},
          "execution_count": 6
        }
      ]
    },
    {
      "cell_type": "code",
      "source": [
        "#Class Distribution\n",
        "data['Exited'].value_counts()"
      ],
      "metadata": {
        "colab": {
          "base_uri": "https://localhost:8080/"
        },
        "id": "qeFj-P1RvLaS",
        "outputId": "0dea98d5-914c-4923-af8c-2cce91212f04"
      },
      "execution_count": 7,
      "outputs": [
        {
          "output_type": "execute_result",
          "data": {
            "text/plain": [
              "0    7963\n",
              "1    2037\n",
              "Name: Exited, dtype: int64"
            ]
          },
          "metadata": {},
          "execution_count": 7
        }
      ]
    },
    {
      "cell_type": "markdown",
      "source": [
        "**Data Pre-Processing**"
      ],
      "metadata": {
        "id": "lGJcHZZ05Nbu"
      }
    },
    {
      "cell_type": "code",
      "source": [
        "#Encoding categorical data\n",
        "encoded_countries = pd.get_dummies(data['Geography'], prefix='Country')\n",
        "data[\"Gender\"] = np.where(data[\"Gender\"].str.contains(\"Male\"), 1, 0)\n",
        "data = pd.concat([data, encoded_countries], axis=1)\n",
        "data.drop(columns = ['RowNumber', 'CustomerId', 'Surname','Geography'], axis = 1, inplace = True)\n",
        "df = data[['CreditScore', 'Country_France','Country_Germany','Country_Spain','Gender', 'Age','Tenure','Balance','NumOfProducts','HasCrCard','IsActiveMember','EstimatedSalary','Exited']]\n",
        "df.head()\n"
      ],
      "metadata": {
        "colab": {
          "base_uri": "https://localhost:8080/",
          "height": 270
        },
        "id": "Lzxt6ELjiNHB",
        "outputId": "a08b168d-03e8-420b-f6a9-48035220334e"
      },
      "execution_count": 8,
      "outputs": [
        {
          "output_type": "execute_result",
          "data": {
            "text/plain": [
              "   CreditScore  Country_France  Country_Germany  Country_Spain  Gender  Age  \\\n",
              "0          619               1                0              0       0   42   \n",
              "1          608               0                0              1       0   41   \n",
              "2          502               1                0              0       0   42   \n",
              "3          699               1                0              0       0   39   \n",
              "4          850               0                0              1       0   43   \n",
              "\n",
              "   Tenure    Balance  NumOfProducts  HasCrCard  IsActiveMember  \\\n",
              "0       2       0.00              1          1               1   \n",
              "1       1   83807.86              1          0               1   \n",
              "2       8  159660.80              3          1               0   \n",
              "3       1       0.00              2          0               0   \n",
              "4       2  125510.82              1          1               1   \n",
              "\n",
              "   EstimatedSalary  Exited  \n",
              "0        101348.88       1  \n",
              "1        112542.58       0  \n",
              "2        113931.57       1  \n",
              "3         93826.63       0  \n",
              "4         79084.10       0  "
            ],
            "text/html": [
              "\n",
              "  <div id=\"df-7b7c734e-a9ca-41f5-a735-3f991db55013\">\n",
              "    <div class=\"colab-df-container\">\n",
              "      <div>\n",
              "<style scoped>\n",
              "    .dataframe tbody tr th:only-of-type {\n",
              "        vertical-align: middle;\n",
              "    }\n",
              "\n",
              "    .dataframe tbody tr th {\n",
              "        vertical-align: top;\n",
              "    }\n",
              "\n",
              "    .dataframe thead th {\n",
              "        text-align: right;\n",
              "    }\n",
              "</style>\n",
              "<table border=\"1\" class=\"dataframe\">\n",
              "  <thead>\n",
              "    <tr style=\"text-align: right;\">\n",
              "      <th></th>\n",
              "      <th>CreditScore</th>\n",
              "      <th>Country_France</th>\n",
              "      <th>Country_Germany</th>\n",
              "      <th>Country_Spain</th>\n",
              "      <th>Gender</th>\n",
              "      <th>Age</th>\n",
              "      <th>Tenure</th>\n",
              "      <th>Balance</th>\n",
              "      <th>NumOfProducts</th>\n",
              "      <th>HasCrCard</th>\n",
              "      <th>IsActiveMember</th>\n",
              "      <th>EstimatedSalary</th>\n",
              "      <th>Exited</th>\n",
              "    </tr>\n",
              "  </thead>\n",
              "  <tbody>\n",
              "    <tr>\n",
              "      <th>0</th>\n",
              "      <td>619</td>\n",
              "      <td>1</td>\n",
              "      <td>0</td>\n",
              "      <td>0</td>\n",
              "      <td>0</td>\n",
              "      <td>42</td>\n",
              "      <td>2</td>\n",
              "      <td>0.00</td>\n",
              "      <td>1</td>\n",
              "      <td>1</td>\n",
              "      <td>1</td>\n",
              "      <td>101348.88</td>\n",
              "      <td>1</td>\n",
              "    </tr>\n",
              "    <tr>\n",
              "      <th>1</th>\n",
              "      <td>608</td>\n",
              "      <td>0</td>\n",
              "      <td>0</td>\n",
              "      <td>1</td>\n",
              "      <td>0</td>\n",
              "      <td>41</td>\n",
              "      <td>1</td>\n",
              "      <td>83807.86</td>\n",
              "      <td>1</td>\n",
              "      <td>0</td>\n",
              "      <td>1</td>\n",
              "      <td>112542.58</td>\n",
              "      <td>0</td>\n",
              "    </tr>\n",
              "    <tr>\n",
              "      <th>2</th>\n",
              "      <td>502</td>\n",
              "      <td>1</td>\n",
              "      <td>0</td>\n",
              "      <td>0</td>\n",
              "      <td>0</td>\n",
              "      <td>42</td>\n",
              "      <td>8</td>\n",
              "      <td>159660.80</td>\n",
              "      <td>3</td>\n",
              "      <td>1</td>\n",
              "      <td>0</td>\n",
              "      <td>113931.57</td>\n",
              "      <td>1</td>\n",
              "    </tr>\n",
              "    <tr>\n",
              "      <th>3</th>\n",
              "      <td>699</td>\n",
              "      <td>1</td>\n",
              "      <td>0</td>\n",
              "      <td>0</td>\n",
              "      <td>0</td>\n",
              "      <td>39</td>\n",
              "      <td>1</td>\n",
              "      <td>0.00</td>\n",
              "      <td>2</td>\n",
              "      <td>0</td>\n",
              "      <td>0</td>\n",
              "      <td>93826.63</td>\n",
              "      <td>0</td>\n",
              "    </tr>\n",
              "    <tr>\n",
              "      <th>4</th>\n",
              "      <td>850</td>\n",
              "      <td>0</td>\n",
              "      <td>0</td>\n",
              "      <td>1</td>\n",
              "      <td>0</td>\n",
              "      <td>43</td>\n",
              "      <td>2</td>\n",
              "      <td>125510.82</td>\n",
              "      <td>1</td>\n",
              "      <td>1</td>\n",
              "      <td>1</td>\n",
              "      <td>79084.10</td>\n",
              "      <td>0</td>\n",
              "    </tr>\n",
              "  </tbody>\n",
              "</table>\n",
              "</div>\n",
              "      <button class=\"colab-df-convert\" onclick=\"convertToInteractive('df-7b7c734e-a9ca-41f5-a735-3f991db55013')\"\n",
              "              title=\"Convert this dataframe to an interactive table.\"\n",
              "              style=\"display:none;\">\n",
              "        \n",
              "  <svg xmlns=\"http://www.w3.org/2000/svg\" height=\"24px\"viewBox=\"0 0 24 24\"\n",
              "       width=\"24px\">\n",
              "    <path d=\"M0 0h24v24H0V0z\" fill=\"none\"/>\n",
              "    <path d=\"M18.56 5.44l.94 2.06.94-2.06 2.06-.94-2.06-.94-.94-2.06-.94 2.06-2.06.94zm-11 1L8.5 8.5l.94-2.06 2.06-.94-2.06-.94L8.5 2.5l-.94 2.06-2.06.94zm10 10l.94 2.06.94-2.06 2.06-.94-2.06-.94-.94-2.06-.94 2.06-2.06.94z\"/><path d=\"M17.41 7.96l-1.37-1.37c-.4-.4-.92-.59-1.43-.59-.52 0-1.04.2-1.43.59L10.3 9.45l-7.72 7.72c-.78.78-.78 2.05 0 2.83L4 21.41c.39.39.9.59 1.41.59.51 0 1.02-.2 1.41-.59l7.78-7.78 2.81-2.81c.8-.78.8-2.07 0-2.86zM5.41 20L4 18.59l7.72-7.72 1.47 1.35L5.41 20z\"/>\n",
              "  </svg>\n",
              "      </button>\n",
              "      \n",
              "  <style>\n",
              "    .colab-df-container {\n",
              "      display:flex;\n",
              "      flex-wrap:wrap;\n",
              "      gap: 12px;\n",
              "    }\n",
              "\n",
              "    .colab-df-convert {\n",
              "      background-color: #E8F0FE;\n",
              "      border: none;\n",
              "      border-radius: 50%;\n",
              "      cursor: pointer;\n",
              "      display: none;\n",
              "      fill: #1967D2;\n",
              "      height: 32px;\n",
              "      padding: 0 0 0 0;\n",
              "      width: 32px;\n",
              "    }\n",
              "\n",
              "    .colab-df-convert:hover {\n",
              "      background-color: #E2EBFA;\n",
              "      box-shadow: 0px 1px 2px rgba(60, 64, 67, 0.3), 0px 1px 3px 1px rgba(60, 64, 67, 0.15);\n",
              "      fill: #174EA6;\n",
              "    }\n",
              "\n",
              "    [theme=dark] .colab-df-convert {\n",
              "      background-color: #3B4455;\n",
              "      fill: #D2E3FC;\n",
              "    }\n",
              "\n",
              "    [theme=dark] .colab-df-convert:hover {\n",
              "      background-color: #434B5C;\n",
              "      box-shadow: 0px 1px 3px 1px rgba(0, 0, 0, 0.15);\n",
              "      filter: drop-shadow(0px 1px 2px rgba(0, 0, 0, 0.3));\n",
              "      fill: #FFFFFF;\n",
              "    }\n",
              "  </style>\n",
              "\n",
              "      <script>\n",
              "        const buttonEl =\n",
              "          document.querySelector('#df-7b7c734e-a9ca-41f5-a735-3f991db55013 button.colab-df-convert');\n",
              "        buttonEl.style.display =\n",
              "          google.colab.kernel.accessAllowed ? 'block' : 'none';\n",
              "\n",
              "        async function convertToInteractive(key) {\n",
              "          const element = document.querySelector('#df-7b7c734e-a9ca-41f5-a735-3f991db55013');\n",
              "          const dataTable =\n",
              "            await google.colab.kernel.invokeFunction('convertToInteractive',\n",
              "                                                     [key], {});\n",
              "          if (!dataTable) return;\n",
              "\n",
              "          const docLinkHtml = 'Like what you see? Visit the ' +\n",
              "            '<a target=\"_blank\" href=https://colab.research.google.com/notebooks/data_table.ipynb>data table notebook</a>'\n",
              "            + ' to learn more about interactive tables.';\n",
              "          element.innerHTML = '';\n",
              "          dataTable['output_type'] = 'display_data';\n",
              "          await google.colab.output.renderOutput(dataTable, element);\n",
              "          const docLink = document.createElement('div');\n",
              "          docLink.innerHTML = docLinkHtml;\n",
              "          element.appendChild(docLink);\n",
              "        }\n",
              "      </script>\n",
              "    </div>\n",
              "  </div>\n",
              "  "
            ]
          },
          "metadata": {},
          "execution_count": 8
        }
      ]
    },
    {
      "cell_type": "code",
      "source": [
        "#Checking the number of Rows and Col in the dataset\n",
        "df.shape"
      ],
      "metadata": {
        "colab": {
          "base_uri": "https://localhost:8080/"
        },
        "id": "o8oGV0PVruy2",
        "outputId": "a0e1543d-852e-4b4c-c08d-24ff40909fdb"
      },
      "execution_count": 9,
      "outputs": [
        {
          "output_type": "execute_result",
          "data": {
            "text/plain": [
              "(10000, 13)"
            ]
          },
          "metadata": {},
          "execution_count": 9
        }
      ]
    },
    {
      "cell_type": "code",
      "source": [
        "#splitting dependent and Independed Variables\n",
        "X = df.iloc[:, 0:12].values #Independent Variables\n",
        "y = df.iloc[:, 12].values #Dependent variable is \"Exited\""
      ],
      "metadata": {
        "id": "eIZSkIskcUXi"
      },
      "execution_count": 10,
      "outputs": []
    },
    {
      "cell_type": "code",
      "source": [
        "# Splitting the dataset into the Training set and Test set\n",
        "from sklearn.model_selection import train_test_split\n",
        "X_train, X_test, y_train, y_test = train_test_split(X, y, test_size = 0.2, random_state=100)"
      ],
      "metadata": {
        "id": "_uJ4mf-atTgV"
      },
      "execution_count": 11,
      "outputs": []
    },
    {
      "cell_type": "code",
      "source": [
        "# Feature Scaling\n",
        "from sklearn.preprocessing import StandardScaler\n",
        "sc = StandardScaler()\n",
        "X_train = sc.fit_transform(X_train)\n",
        "X_test = sc.transform(X_test)\n"
      ],
      "metadata": {
        "id": "hoEgMXi3tW9o"
      },
      "execution_count": 12,
      "outputs": []
    },
    {
      "cell_type": "markdown",
      "source": [
        "**Model 1 Implementation** (without GridsearchCV)"
      ],
      "metadata": {
        "id": "18Ecy5jIFJEC"
      }
    },
    {
      "cell_type": "code",
      "source": [
        "# Initialising the ANN\n",
        "classifier = Sequential()\n",
        "\n",
        "# Adding the input layer and the first hidden layer with 6 neurons and \n",
        "#initializes the weights randomly, with a standard deviation that is dependent on the number of input neurons. \n",
        "classifier.add(Dense(units = 6, kernel_initializer = 'he_uniform',activation='relu',input_dim = 12))\n",
        "\n",
        "# Adding the second hidden layer\n",
        "classifier.add(Dense(units = 6, kernel_initializer = 'he_uniform',activation='relu'))\n",
        "# Adding the output layer & initializing the weights with a random distribution with zero mean and a variance that is calculated based on the number of input and output neurons.\n",
        "classifier.add(Dense(units = 1, kernel_initializer = 'glorot_uniform', activation = 'sigmoid'))\n",
        "\n",
        "# Compiling the ANN\n",
        "classifier.compile(optimizer = 'Adam', loss = 'binary_crossentropy', metrics = ['accuracy'])\n",
        "\n",
        "# Fitting the ANN to the Training set\n",
        "model_history=classifier.fit(X_train, y_train,validation_split=0.33, batch_size = 10, epochs = 100)\n",
        "\n",
        "# list all data in history\n",
        "\n",
        "print(model_history.history.keys())\n"
      ],
      "metadata": {
        "colab": {
          "base_uri": "https://localhost:8080/"
        },
        "id": "nCP0xnhetaUz",
        "outputId": "b8499479-ac68-4346-9e58-4337b31317bf"
      },
      "execution_count": 13,
      "outputs": [
        {
          "output_type": "stream",
          "name": "stdout",
          "text": [
            "Epoch 1/100\n",
            "536/536 [==============================] - 3s 4ms/step - loss: 0.8414 - accuracy: 0.5548 - val_loss: 0.5203 - val_accuracy: 0.7827\n",
            "Epoch 2/100\n",
            "536/536 [==============================] - 2s 3ms/step - loss: 0.4695 - accuracy: 0.8039 - val_loss: 0.4757 - val_accuracy: 0.7925\n",
            "Epoch 3/100\n",
            "536/536 [==============================] - 1s 3ms/step - loss: 0.4385 - accuracy: 0.8119 - val_loss: 0.4627 - val_accuracy: 0.7963\n",
            "Epoch 4/100\n",
            "536/536 [==============================] - 2s 3ms/step - loss: 0.4261 - accuracy: 0.8169 - val_loss: 0.4558 - val_accuracy: 0.8012\n",
            "Epoch 5/100\n",
            "536/536 [==============================] - 2s 3ms/step - loss: 0.4196 - accuracy: 0.8182 - val_loss: 0.4509 - val_accuracy: 0.8023\n",
            "Epoch 6/100\n",
            "536/536 [==============================] - 2s 4ms/step - loss: 0.4135 - accuracy: 0.8186 - val_loss: 0.4432 - val_accuracy: 0.8080\n",
            "Epoch 7/100\n",
            "536/536 [==============================] - 2s 4ms/step - loss: 0.4066 - accuracy: 0.8252 - val_loss: 0.4337 - val_accuracy: 0.8129\n",
            "Epoch 8/100\n",
            "536/536 [==============================] - 2s 3ms/step - loss: 0.3980 - accuracy: 0.8315 - val_loss: 0.4238 - val_accuracy: 0.8213\n",
            "Epoch 9/100\n",
            "536/536 [==============================] - 2s 3ms/step - loss: 0.3883 - accuracy: 0.8365 - val_loss: 0.4100 - val_accuracy: 0.8270\n",
            "Epoch 10/100\n",
            "536/536 [==============================] - 2s 3ms/step - loss: 0.3787 - accuracy: 0.8390 - val_loss: 0.3972 - val_accuracy: 0.8364\n",
            "Epoch 11/100\n",
            "536/536 [==============================] - 1s 3ms/step - loss: 0.3708 - accuracy: 0.8395 - val_loss: 0.3874 - val_accuracy: 0.8410\n",
            "Epoch 12/100\n",
            "536/536 [==============================] - 2s 3ms/step - loss: 0.3647 - accuracy: 0.8427 - val_loss: 0.3793 - val_accuracy: 0.8463\n",
            "Epoch 13/100\n",
            "536/536 [==============================] - 2s 3ms/step - loss: 0.3599 - accuracy: 0.8438 - val_loss: 0.3752 - val_accuracy: 0.8489\n",
            "Epoch 14/100\n",
            "536/536 [==============================] - 2s 4ms/step - loss: 0.3558 - accuracy: 0.8464 - val_loss: 0.3711 - val_accuracy: 0.8501\n",
            "Epoch 15/100\n",
            "536/536 [==============================] - 2s 4ms/step - loss: 0.3521 - accuracy: 0.8489 - val_loss: 0.3652 - val_accuracy: 0.8482\n",
            "Epoch 16/100\n",
            "536/536 [==============================] - 1s 3ms/step - loss: 0.3493 - accuracy: 0.8548 - val_loss: 0.3601 - val_accuracy: 0.8512\n",
            "Epoch 17/100\n",
            "536/536 [==============================] - 1s 3ms/step - loss: 0.3472 - accuracy: 0.8559 - val_loss: 0.3579 - val_accuracy: 0.8538\n",
            "Epoch 18/100\n",
            "536/536 [==============================] - 2s 3ms/step - loss: 0.3449 - accuracy: 0.8569 - val_loss: 0.3576 - val_accuracy: 0.8569\n",
            "Epoch 19/100\n",
            "536/536 [==============================] - 2s 3ms/step - loss: 0.3434 - accuracy: 0.8580 - val_loss: 0.3545 - val_accuracy: 0.8550\n",
            "Epoch 20/100\n",
            "536/536 [==============================] - 1s 3ms/step - loss: 0.3418 - accuracy: 0.8599 - val_loss: 0.3536 - val_accuracy: 0.8565\n",
            "Epoch 21/100\n",
            "536/536 [==============================] - 2s 3ms/step - loss: 0.3409 - accuracy: 0.8600 - val_loss: 0.3501 - val_accuracy: 0.8550\n",
            "Epoch 22/100\n",
            "536/536 [==============================] - 2s 4ms/step - loss: 0.3393 - accuracy: 0.8586 - val_loss: 0.3506 - val_accuracy: 0.8569\n",
            "Epoch 23/100\n",
            "536/536 [==============================] - 2s 4ms/step - loss: 0.3386 - accuracy: 0.8615 - val_loss: 0.3511 - val_accuracy: 0.8588\n",
            "Epoch 24/100\n",
            "536/536 [==============================] - 2s 3ms/step - loss: 0.3383 - accuracy: 0.8602 - val_loss: 0.3493 - val_accuracy: 0.8588\n",
            "Epoch 25/100\n",
            "536/536 [==============================] - 2s 3ms/step - loss: 0.3371 - accuracy: 0.8610 - val_loss: 0.3488 - val_accuracy: 0.8599\n",
            "Epoch 26/100\n",
            "536/536 [==============================] - 1s 3ms/step - loss: 0.3365 - accuracy: 0.8619 - val_loss: 0.3480 - val_accuracy: 0.8591\n",
            "Epoch 27/100\n",
            "536/536 [==============================] - 2s 3ms/step - loss: 0.3363 - accuracy: 0.8599 - val_loss: 0.3473 - val_accuracy: 0.8599\n",
            "Epoch 28/100\n",
            "536/536 [==============================] - 1s 3ms/step - loss: 0.3357 - accuracy: 0.8602 - val_loss: 0.3482 - val_accuracy: 0.8607\n",
            "Epoch 29/100\n",
            "536/536 [==============================] - 1s 3ms/step - loss: 0.3348 - accuracy: 0.8614 - val_loss: 0.3469 - val_accuracy: 0.8595\n",
            "Epoch 30/100\n",
            "536/536 [==============================] - 2s 4ms/step - loss: 0.3348 - accuracy: 0.8634 - val_loss: 0.3481 - val_accuracy: 0.8591\n",
            "Epoch 31/100\n",
            "536/536 [==============================] - 2s 4ms/step - loss: 0.3345 - accuracy: 0.8606 - val_loss: 0.3480 - val_accuracy: 0.8622\n",
            "Epoch 32/100\n",
            "536/536 [==============================] - 2s 4ms/step - loss: 0.3335 - accuracy: 0.8621 - val_loss: 0.3458 - val_accuracy: 0.8576\n",
            "Epoch 33/100\n",
            "536/536 [==============================] - 1s 3ms/step - loss: 0.3337 - accuracy: 0.8627 - val_loss: 0.3447 - val_accuracy: 0.8599\n",
            "Epoch 34/100\n",
            "536/536 [==============================] - 2s 3ms/step - loss: 0.3337 - accuracy: 0.8619 - val_loss: 0.3459 - val_accuracy: 0.8610\n",
            "Epoch 35/100\n",
            "536/536 [==============================] - 1s 3ms/step - loss: 0.3330 - accuracy: 0.8610 - val_loss: 0.3500 - val_accuracy: 0.8629\n",
            "Epoch 36/100\n",
            "536/536 [==============================] - 3s 6ms/step - loss: 0.3329 - accuracy: 0.8621 - val_loss: 0.3451 - val_accuracy: 0.8584\n",
            "Epoch 37/100\n",
            "536/536 [==============================] - 3s 5ms/step - loss: 0.3326 - accuracy: 0.8623 - val_loss: 0.3447 - val_accuracy: 0.8588\n",
            "Epoch 38/100\n",
            "536/536 [==============================] - 2s 5ms/step - loss: 0.3320 - accuracy: 0.8621 - val_loss: 0.3454 - val_accuracy: 0.8603\n",
            "Epoch 39/100\n",
            "536/536 [==============================] - 2s 4ms/step - loss: 0.3316 - accuracy: 0.8625 - val_loss: 0.3472 - val_accuracy: 0.8626\n",
            "Epoch 40/100\n",
            "536/536 [==============================] - 1s 3ms/step - loss: 0.3316 - accuracy: 0.8628 - val_loss: 0.3457 - val_accuracy: 0.8633\n",
            "Epoch 41/100\n",
            "536/536 [==============================] - 1s 3ms/step - loss: 0.3311 - accuracy: 0.8645 - val_loss: 0.3441 - val_accuracy: 0.8599\n",
            "Epoch 42/100\n",
            "536/536 [==============================] - 2s 3ms/step - loss: 0.3308 - accuracy: 0.8632 - val_loss: 0.3468 - val_accuracy: 0.8622\n",
            "Epoch 43/100\n",
            "536/536 [==============================] - 1s 3ms/step - loss: 0.3301 - accuracy: 0.8634 - val_loss: 0.3431 - val_accuracy: 0.8618\n",
            "Epoch 44/100\n",
            "536/536 [==============================] - 2s 3ms/step - loss: 0.3305 - accuracy: 0.8636 - val_loss: 0.3453 - val_accuracy: 0.8591\n",
            "Epoch 45/100\n",
            "536/536 [==============================] - 2s 3ms/step - loss: 0.3298 - accuracy: 0.8632 - val_loss: 0.3427 - val_accuracy: 0.8610\n",
            "Epoch 46/100\n",
            "536/536 [==============================] - 2s 4ms/step - loss: 0.3299 - accuracy: 0.8647 - val_loss: 0.3453 - val_accuracy: 0.8576\n",
            "Epoch 47/100\n",
            "536/536 [==============================] - 2s 4ms/step - loss: 0.3291 - accuracy: 0.8670 - val_loss: 0.3469 - val_accuracy: 0.8603\n",
            "Epoch 48/100\n",
            "536/536 [==============================] - 2s 3ms/step - loss: 0.3296 - accuracy: 0.8636 - val_loss: 0.3451 - val_accuracy: 0.8595\n",
            "Epoch 49/100\n",
            "536/536 [==============================] - 2s 3ms/step - loss: 0.3291 - accuracy: 0.8627 - val_loss: 0.3464 - val_accuracy: 0.8603\n",
            "Epoch 50/100\n",
            "536/536 [==============================] - 2s 3ms/step - loss: 0.3294 - accuracy: 0.8621 - val_loss: 0.3441 - val_accuracy: 0.8603\n",
            "Epoch 51/100\n",
            "536/536 [==============================] - 2s 3ms/step - loss: 0.3290 - accuracy: 0.8645 - val_loss: 0.3447 - val_accuracy: 0.8603\n",
            "Epoch 52/100\n",
            "536/536 [==============================] - 2s 3ms/step - loss: 0.3287 - accuracy: 0.8668 - val_loss: 0.3456 - val_accuracy: 0.8610\n",
            "Epoch 53/100\n",
            "536/536 [==============================] - 2s 4ms/step - loss: 0.3286 - accuracy: 0.8640 - val_loss: 0.3450 - val_accuracy: 0.8622\n",
            "Epoch 54/100\n",
            "536/536 [==============================] - 2s 4ms/step - loss: 0.3289 - accuracy: 0.8643 - val_loss: 0.3444 - val_accuracy: 0.8595\n",
            "Epoch 55/100\n",
            "536/536 [==============================] - 2s 3ms/step - loss: 0.3284 - accuracy: 0.8638 - val_loss: 0.3430 - val_accuracy: 0.8618\n",
            "Epoch 56/100\n",
            "536/536 [==============================] - 2s 3ms/step - loss: 0.3283 - accuracy: 0.8656 - val_loss: 0.3443 - val_accuracy: 0.8591\n",
            "Epoch 57/100\n",
            "536/536 [==============================] - 2s 3ms/step - loss: 0.3285 - accuracy: 0.8645 - val_loss: 0.3450 - val_accuracy: 0.8633\n",
            "Epoch 58/100\n",
            "536/536 [==============================] - 2s 3ms/step - loss: 0.3287 - accuracy: 0.8675 - val_loss: 0.3435 - val_accuracy: 0.8607\n",
            "Epoch 59/100\n",
            "536/536 [==============================] - 2s 3ms/step - loss: 0.3277 - accuracy: 0.8636 - val_loss: 0.3452 - val_accuracy: 0.8610\n",
            "Epoch 60/100\n",
            "536/536 [==============================] - 2s 3ms/step - loss: 0.3288 - accuracy: 0.8655 - val_loss: 0.3448 - val_accuracy: 0.8607\n",
            "Epoch 61/100\n",
            "536/536 [==============================] - 4s 8ms/step - loss: 0.3280 - accuracy: 0.8636 - val_loss: 0.3432 - val_accuracy: 0.8584\n",
            "Epoch 62/100\n",
            "536/536 [==============================] - 4s 8ms/step - loss: 0.3279 - accuracy: 0.8640 - val_loss: 0.3435 - val_accuracy: 0.8569\n",
            "Epoch 63/100\n",
            "536/536 [==============================] - 3s 5ms/step - loss: 0.3284 - accuracy: 0.8642 - val_loss: 0.3443 - val_accuracy: 0.8618\n",
            "Epoch 64/100\n",
            "536/536 [==============================] - 3s 6ms/step - loss: 0.3274 - accuracy: 0.8647 - val_loss: 0.3479 - val_accuracy: 0.8595\n",
            "Epoch 65/100\n",
            "536/536 [==============================] - 3s 6ms/step - loss: 0.3279 - accuracy: 0.8666 - val_loss: 0.3442 - val_accuracy: 0.8588\n",
            "Epoch 66/100\n",
            "536/536 [==============================] - 4s 8ms/step - loss: 0.3275 - accuracy: 0.8675 - val_loss: 0.3435 - val_accuracy: 0.8588\n",
            "Epoch 67/100\n",
            "536/536 [==============================] - 3s 6ms/step - loss: 0.3273 - accuracy: 0.8645 - val_loss: 0.3464 - val_accuracy: 0.8614\n",
            "Epoch 68/100\n",
            "536/536 [==============================] - 2s 4ms/step - loss: 0.3283 - accuracy: 0.8666 - val_loss: 0.3436 - val_accuracy: 0.8591\n",
            "Epoch 69/100\n",
            "536/536 [==============================] - 2s 3ms/step - loss: 0.3273 - accuracy: 0.8653 - val_loss: 0.3434 - val_accuracy: 0.8591\n",
            "Epoch 70/100\n",
            "536/536 [==============================] - 2s 3ms/step - loss: 0.3276 - accuracy: 0.8670 - val_loss: 0.3448 - val_accuracy: 0.8626\n",
            "Epoch 71/100\n",
            "536/536 [==============================] - 2s 3ms/step - loss: 0.3274 - accuracy: 0.8656 - val_loss: 0.3435 - val_accuracy: 0.8584\n",
            "Epoch 72/100\n",
            "536/536 [==============================] - 2s 4ms/step - loss: 0.3275 - accuracy: 0.8642 - val_loss: 0.3443 - val_accuracy: 0.8618\n",
            "Epoch 73/100\n",
            "536/536 [==============================] - 2s 4ms/step - loss: 0.3279 - accuracy: 0.8664 - val_loss: 0.3433 - val_accuracy: 0.8610\n",
            "Epoch 74/100\n",
            "536/536 [==============================] - 1s 3ms/step - loss: 0.3272 - accuracy: 0.8662 - val_loss: 0.3446 - val_accuracy: 0.8576\n",
            "Epoch 75/100\n",
            "536/536 [==============================] - 1s 3ms/step - loss: 0.3274 - accuracy: 0.8662 - val_loss: 0.3456 - val_accuracy: 0.8603\n",
            "Epoch 76/100\n",
            "536/536 [==============================] - 2s 3ms/step - loss: 0.3269 - accuracy: 0.8664 - val_loss: 0.3426 - val_accuracy: 0.8573\n",
            "Epoch 77/100\n",
            "536/536 [==============================] - 2s 3ms/step - loss: 0.3273 - accuracy: 0.8666 - val_loss: 0.3436 - val_accuracy: 0.8603\n",
            "Epoch 78/100\n",
            "536/536 [==============================] - 2s 3ms/step - loss: 0.3276 - accuracy: 0.8658 - val_loss: 0.3435 - val_accuracy: 0.8569\n",
            "Epoch 79/100\n",
            "536/536 [==============================] - 2s 3ms/step - loss: 0.3269 - accuracy: 0.8640 - val_loss: 0.3433 - val_accuracy: 0.8622\n",
            "Epoch 80/100\n",
            "536/536 [==============================] - 2s 4ms/step - loss: 0.3275 - accuracy: 0.8642 - val_loss: 0.3416 - val_accuracy: 0.8603\n",
            "Epoch 81/100\n",
            "536/536 [==============================] - 3s 5ms/step - loss: 0.3275 - accuracy: 0.8656 - val_loss: 0.3421 - val_accuracy: 0.8618\n",
            "Epoch 82/100\n",
            "536/536 [==============================] - 2s 3ms/step - loss: 0.3270 - accuracy: 0.8679 - val_loss: 0.3443 - val_accuracy: 0.8595\n",
            "Epoch 83/100\n",
            "536/536 [==============================] - 2s 3ms/step - loss: 0.3269 - accuracy: 0.8673 - val_loss: 0.3425 - val_accuracy: 0.8599\n",
            "Epoch 84/100\n",
            "536/536 [==============================] - 1s 3ms/step - loss: 0.3272 - accuracy: 0.8662 - val_loss: 0.3428 - val_accuracy: 0.8637\n",
            "Epoch 85/100\n",
            "536/536 [==============================] - 2s 3ms/step - loss: 0.3272 - accuracy: 0.8645 - val_loss: 0.3437 - val_accuracy: 0.8622\n",
            "Epoch 86/100\n",
            "536/536 [==============================] - 2s 3ms/step - loss: 0.3273 - accuracy: 0.8666 - val_loss: 0.3434 - val_accuracy: 0.8603\n",
            "Epoch 87/100\n",
            "536/536 [==============================] - 2s 3ms/step - loss: 0.3270 - accuracy: 0.8649 - val_loss: 0.3439 - val_accuracy: 0.8633\n",
            "Epoch 88/100\n",
            "536/536 [==============================] - 2s 4ms/step - loss: 0.3271 - accuracy: 0.8668 - val_loss: 0.3454 - val_accuracy: 0.8588\n",
            "Epoch 89/100\n",
            "536/536 [==============================] - 6s 11ms/step - loss: 0.3268 - accuracy: 0.8664 - val_loss: 0.3431 - val_accuracy: 0.8618\n",
            "Epoch 90/100\n",
            "536/536 [==============================] - 3s 6ms/step - loss: 0.3268 - accuracy: 0.8651 - val_loss: 0.3449 - val_accuracy: 0.8580\n",
            "Epoch 91/100\n",
            "536/536 [==============================] - 3s 5ms/step - loss: 0.3269 - accuracy: 0.8666 - val_loss: 0.3444 - val_accuracy: 0.8618\n",
            "Epoch 92/100\n",
            "536/536 [==============================] - 3s 5ms/step - loss: 0.3268 - accuracy: 0.8649 - val_loss: 0.3445 - val_accuracy: 0.8607\n",
            "Epoch 93/100\n",
            "536/536 [==============================] - 7s 13ms/step - loss: 0.3266 - accuracy: 0.8662 - val_loss: 0.3443 - val_accuracy: 0.8595\n",
            "Epoch 94/100\n",
            "536/536 [==============================] - 3s 6ms/step - loss: 0.3269 - accuracy: 0.8653 - val_loss: 0.3430 - val_accuracy: 0.8607\n",
            "Epoch 95/100\n",
            "536/536 [==============================] - 3s 6ms/step - loss: 0.3267 - accuracy: 0.8668 - val_loss: 0.3433 - val_accuracy: 0.8591\n",
            "Epoch 96/100\n",
            "536/536 [==============================] - 4s 7ms/step - loss: 0.3267 - accuracy: 0.8675 - val_loss: 0.3431 - val_accuracy: 0.8618\n",
            "Epoch 97/100\n",
            "536/536 [==============================] - 6s 12ms/step - loss: 0.3261 - accuracy: 0.8675 - val_loss: 0.3447 - val_accuracy: 0.8595\n",
            "Epoch 98/100\n",
            "536/536 [==============================] - 4s 7ms/step - loss: 0.3266 - accuracy: 0.8660 - val_loss: 0.3417 - val_accuracy: 0.8599\n",
            "Epoch 99/100\n",
            "536/536 [==============================] - 3s 6ms/step - loss: 0.3265 - accuracy: 0.8660 - val_loss: 0.3432 - val_accuracy: 0.8595\n",
            "Epoch 100/100\n",
            "536/536 [==============================] - 4s 7ms/step - loss: 0.3263 - accuracy: 0.8688 - val_loss: 0.3438 - val_accuracy: 0.8584\n",
            "dict_keys(['loss', 'accuracy', 'val_loss', 'val_accuracy'])\n"
          ]
        }
      ]
    },
    {
      "cell_type": "code",
      "source": [
        "# summarize history for accuracy\n",
        "plt.plot(model_history.history['accuracy'])\n",
        "plt.plot(model_history.history['val_accuracy'])\n",
        "plt.title('model accuracy')\n",
        "plt.ylabel('accuracy')\n",
        "plt.xlabel('epoch')\n",
        "plt.legend(['train', 'test'], loc='upper left')\n",
        "plt.show()"
      ],
      "metadata": {
        "colab": {
          "base_uri": "https://localhost:8080/",
          "height": 472
        },
        "id": "WquII0Jk4IFe",
        "outputId": "7568be72-b755-4459-ed28-2b9066d95388"
      },
      "execution_count": 14,
      "outputs": [
        {
          "output_type": "display_data",
          "data": {
            "text/plain": [
              "<Figure size 640x480 with 1 Axes>"
            ],
            "image/png": "[encoded data removed]"
          },
          "metadata": {}
        }
      ]
    },
    {
      "cell_type": "code",
      "source": [
        "# summarize history for loss\n",
        "plt.plot(model_history.history['loss'])\n",
        "plt.plot(model_history.history['val_loss'])\n",
        "plt.title('model loss')\n",
        "plt.ylabel('loss')\n",
        "plt.xlabel('epoch')\n",
        "plt.legend(['train', 'test'], loc='upper left')\n",
        "plt.show()"
      ],
      "metadata": {
        "colab": {
          "base_uri": "https://localhost:8080/",
          "height": 472
        },
        "id": "nJu9Ws794YaD",
        "outputId": "3394fb96-ccf8-4ccf-966f-a43471f0189a"
      },
      "execution_count": 15,
      "outputs": [
        {
          "output_type": "display_data",
          "data": {
            "text/plain": [
              "<Figure size 640x480 with 1 Axes>"
            ],
            "image/png": "[encoded data removed]"
          },
          "metadata": {}
        }
      ]
    },
    {
      "cell_type": "code",
      "source": [
        "# Predicting the Test set results\n",
        "y_pred = classifier.predict(X_test)\n",
        "y_pred = (y_pred > 0.5)"
      ],
      "metadata": {
        "colab": {
          "base_uri": "https://localhost:8080/"
        },
        "id": "mi4_dEaG4hPv",
        "outputId": "f01eb9b6-ae9f-4378-9e80-cd06d021993d"
      },
      "execution_count": 16,
      "outputs": [
        {
          "output_type": "stream",
          "name": "stdout",
          "text": [
            "63/63 [==============================] - 0s 3ms/step\n"
          ]
        }
      ]
    },
    {
      "cell_type": "markdown",
      "source": [
        "**Confusion Matrix**\n",
        "![image.png](data:image/png;base64,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)"
      ],
      "metadata": {
        "id": "0hamXFKf8lZU"
      }
    },
    {
      "cell_type": "code",
      "source": [
        "# Making the Confusion Matrix\n",
        "y_pred_array = np.array(y_pred)\n",
        "y_test_array = np.array(y_test)\n",
        "#labels = \"0\"-False(not exited), \"1\"-True(Exited)\n",
        "names = np.unique(y_pred)\n",
        "\n",
        "cm = confusion_matrix(y_test_array, y_pred_array)\n",
        "\n",
        "disp = ConfusionMatrixDisplay(confusion_matrix=cm, display_labels=names)\n",
        "\n",
        "disp.plot(cmap=plt.cm.Blues)\n",
        "plt.show()"
      ],
      "metadata": {
        "colab": {
          "base_uri": "https://localhost:8080/",
          "height": 449
        },
        "id": "ViVIpZ6v6FQm",
        "outputId": "5c581389-e88b-493d-9fa6-b8f0e8e6b858"
      },
      "execution_count": 17,
      "outputs": [
        {
          "output_type": "display_data",
          "data": {
            "text/plain": [
              "<Figure size 640x480 with 2 Axes>"
            ],
            "image/png": "[encoded data removed]"
          },
          "metadata": {}
        }
      ]
    },
    {
      "cell_type": "code",
      "source": [
        "# Calculate the Accuracy\n",
        "from sklearn.metrics import accuracy_score\n",
        "score=accuracy_score(y_pred,y_test)\n",
        "score"
      ],
      "metadata": {
        "colab": {
          "base_uri": "https://localhost:8080/"
        },
        "id": "tQ2Nvyg54oDR",
        "outputId": "58d614c9-60d9-4911-9e15-0aa5deaf4aee"
      },
      "execution_count": 18,
      "outputs": [
        {
          "output_type": "execute_result",
          "data": {
            "text/plain": [
              "0.8525"
            ]
          },
          "metadata": {},
          "execution_count": 18
        }
      ]
    },
    {
      "cell_type": "code",
      "source": [
        "#Making Classification Report\n",
        "labels = [\"0-False\", \"1-True\"]\n",
        "print(classification_report(\n",
        "  y_test_array, \n",
        "  y_pred_array, \n",
        "  target_names= labels, \n",
        "  zero_division=0\n",
        "))"
      ],
      "metadata": {
        "colab": {
          "base_uri": "https://localhost:8080/"
        },
        "id": "41o0XR8m7daM",
        "outputId": "f85c1513-f419-4f30-dc07-150fa850d60c"
      },
      "execution_count": 19,
      "outputs": [
        {
          "output_type": "stream",
          "name": "stdout",
          "text": [
            "              precision    recall  f1-score   support\n",
            "\n",
            "     0-False       0.86      0.97      0.91      1588\n",
            "      1-True       0.76      0.41      0.53       412\n",
            "\n",
            "    accuracy                           0.85      2000\n",
            "   macro avg       0.81      0.69      0.72      2000\n",
            "weighted avg       0.84      0.85      0.83      2000\n",
            "\n"
          ]
        }
      ]
    },
    {
      "cell_type": "markdown",
      "source": [
        "1.   **Precision** refers to the number of true positives divided by the total number of positive predictions (i.e., the number of true positives plus the number of false positives)\n",
        "2.   **Recall** is refers to the number of true positives divided by the total number of actual positive in the sample (i.e., the number of true positives plus the number of false negative).\n",
        "3. **F1** score is a machine learning evaluation metric that measures a model's accuracy. It combines the precision and recall scores of a model. The accuracy metric computes how many times a model made a correct prediction across the entire dataset."
      ],
      "metadata": {
        "id": "Q8G5wd4d8_mC"
      }
    },
    {
      "cell_type": "markdown",
      "source": [
        "**Model 2 Implementation Through GridSearchCV**"
      ],
      "metadata": {
        "id": "92FtMRKt9uWP"
      }
    },
    {
      "cell_type": "code",
      "source": [
        "from keras.wrappers.scikit_learn import KerasClassifier, KerasRegressor\n",
        "from sklearn.model_selection import GridSearchCV\n",
        "from keras.layers import Dropout\n",
        "from keras.optimizers import Adam"
      ],
      "metadata": {
        "id": "PQa-LIj294Np"
      },
      "execution_count": 56,
      "outputs": []
    },
    {
      "cell_type": "code",
      "source": [
        "def create_model(layers, activation, rate=0.0,learning_rate=0.001):\n",
        "    # create a new sequential model\n",
        "    model = Sequential()\n",
        "    # add each layer to the model\n",
        "    for i, nodes in enumerate(layers):\n",
        "     # for the first layer, specify the input shape and add a dropout layer   \n",
        "        if i==0:\n",
        "            model.add(Dense(nodes,kernel_initializer='he_uniform',input_dim=X_train.shape[1]))\n",
        "            model.add(Activation(activation))\n",
        "            model.add(BatchNormalization())\n",
        "            model.add(Dropout(rate))\n",
        "      # for subsequent layers, just add the layer and a dropout layer\n",
        "        else:\n",
        "            model.add(Dense(nodes,kernel_initializer='he_uniform'))\n",
        "            model.add(Activation(activation))\n",
        "            model.add(BatchNormalization())\n",
        "            model.add(Dropout(rate))\n",
        "    # add a final output layer with sigmoid activation\n",
        "    model.add(Dense(units = 1, kernel_initializer = 'glorot_uniform', activation = 'sigmoid'))\n",
        "    \n",
        "    # compile the model with binary crossentropy loss and accuracy metric\n",
        "    optimizer = Adam(learning_rate=learning_rate)\n",
        "    model.compile(optimizer=optimizer, loss='binary_crossentropy',metrics=['accuracy'])\n",
        "    return model\n",
        "# create a KerasClassifier with the create_model function and verbose=0    \n",
        "model = KerasClassifier(build_fn=create_model, verbose=0)"
      ],
      "metadata": {
        "colab": {
          "base_uri": "https://localhost:8080/"
        },
        "id": "iVtzu1-c99p_",
        "outputId": "2c324682-d169-4bd5-9375-089958e58498"
      },
      "execution_count": 57,
      "outputs": [
        {
          "output_type": "stream",
          "name": "stderr",
          "text": [
            "<ipython-input-57-62b293e642c6>:26: DeprecationWarning: KerasClassifier is deprecated, use Sci-Keras (https://github.com/adriangb/scikeras) instead. See https://www.adriangb.com/scikeras/stable/migration.html for help migrating.\n",
            "  model = KerasClassifier(build_fn=create_model, verbose=0)\n"
          ]
        }
      ]
    },
    {
      "cell_type": "code",
      "source": [
        "model"
      ],
      "metadata": {
        "colab": {
          "base_uri": "https://localhost:8080/"
        },
        "id": "oH2Ev8c8_l-3",
        "outputId": "de0e2fa0-3558-49c0-b398-501118c2cf14"
      },
      "execution_count": 58,
      "outputs": [
        {
          "output_type": "execute_result",
          "data": {
            "text/plain": [
              "<keras.wrappers.scikit_learn.KerasClassifier at 0x7fc9f2967940>"
            ]
          },
          "metadata": {},
          "execution_count": 58
        }
      ]
    },
    {
      "cell_type": "code",
      "source": [
        "# Creating  a grid search objects for layers, activation function, dropout, batch size and epochs hyperparameter\n",
        "#layers = [[20], [40, 20], [45, 30, 15]]\n",
        "#activations = ['sigmoid', 'relu']\n",
        "#rate = [0.0,0.2,0.3]\n",
        "param_grid = {   \n",
        "    'layers': [[6, 6],[6, 10],[10, 10]],\n",
        "    'rate': [0.0, 0.1],\n",
        "    'activation': ['sigmoid', 'relu'],\n",
        "    'batch_size': [10], \n",
        "    'epochs' : [100]\n",
        "}\n",
        "# create a GridSearchCV object with the KerasClassifier model and hyperparameters to search over\n",
        "grid = GridSearchCV(estimator=model, param_grid=param_grid, cv=5)"
      ],
      "metadata": {
        "id": "qnWdvEze_oHv"
      },
      "execution_count": 59,
      "outputs": []
    },
    {
      "cell_type": "code",
      "source": [
        "# fit the grid search object to the data\n",
        "grid_result = grid.fit(X_train, y_train)"
      ],
      "metadata": {
        "id": "QCc3iawu_xoz"
      },
      "execution_count": 60,
      "outputs": []
    },
    {
      "cell_type": "code",
      "source": [
        "#Fetching best hyperparameters and model results from grid results\n",
        "[grid_result.best_score_,grid_result.best_params_]"
      ],
      "metadata": {
        "id": "fDYrL_nX_qjf",
        "colab": {
          "base_uri": "https://localhost:8080/"
        },
        "outputId": "b5209187-a70a-4a95-ec62-daa475ccbf44"
      },
      "execution_count": 61,
      "outputs": [
        {
          "output_type": "execute_result",
          "data": {
            "text/plain": [
              "[0.8633750081062317,\n",
              " {'activation': 'sigmoid',\n",
              "  'batch_size': 10,\n",
              "  'epochs': 100,\n",
              "  'layers': [10, 10],\n",
              "  'rate': 0.1}]"
            ]
          },
          "metadata": {},
          "execution_count": 61
        }
      ]
    },
    {
      "cell_type": "code",
      "source": [
        "# get the best model and its history\n",
        "best_model = grid.best_estimator_.model\n",
        "history = best_model.history"
      ],
      "metadata": {
        "id": "gWEPjEtPbKHS"
      },
      "execution_count": 62,
      "outputs": []
    },
    {
      "cell_type": "code",
      "source": [
        "# list all data in history\n",
        "history = best_model.fit(X_train, y_train, validation_split=0.33, epochs=100,batch_size = 10)\n",
        "history"
      ],
      "metadata": {
        "id": "u4l54bCKrcGr",
        "colab": {
          "base_uri": "https://localhost:8080/"
        },
        "outputId": "327a6f18-c849-4ac0-e52b-53ce825672e5"
      },
      "execution_count": 63,
      "outputs": [
        {
          "output_type": "stream",
          "name": "stdout",
          "text": [
            "Epoch 1/100\n",
            "536/536 [==============================] - 8s 11ms/step - loss: 0.3554 - accuracy: 0.8513 - val_loss: 0.3305 - val_accuracy: 0.8622\n",
            "Epoch 2/100\n",
            "536/536 [==============================] - 4s 8ms/step - loss: 0.3601 - accuracy: 0.8558 - val_loss: 0.3344 - val_accuracy: 0.8622\n",
            "Epoch 3/100\n",
            "536/536 [==============================] - 2s 4ms/step - loss: 0.3649 - accuracy: 0.8496 - val_loss: 0.3323 - val_accuracy: 0.8622\n",
            "Epoch 4/100\n",
            "536/536 [==============================] - 3s 6ms/step - loss: 0.3622 - accuracy: 0.8509 - val_loss: 0.3326 - val_accuracy: 0.8614\n",
            "Epoch 5/100\n",
            "536/536 [==============================] - 3s 6ms/step - loss: 0.3662 - accuracy: 0.8492 - val_loss: 0.3332 - val_accuracy: 0.8603\n",
            "Epoch 6/100\n",
            "536/536 [==============================] - 2s 4ms/step - loss: 0.3629 - accuracy: 0.8515 - val_loss: 0.3351 - val_accuracy: 0.8622\n",
            "Epoch 7/100\n",
            "536/536 [==============================] - 2s 4ms/step - loss: 0.3633 - accuracy: 0.8535 - val_loss: 0.3350 - val_accuracy: 0.8648\n",
            "Epoch 8/100\n",
            "536/536 [==============================] - 3s 5ms/step - loss: 0.3663 - accuracy: 0.8500 - val_loss: 0.3346 - val_accuracy: 0.8618\n",
            "Epoch 9/100\n",
            "536/536 [==============================] - 2s 4ms/step - loss: 0.3682 - accuracy: 0.8479 - val_loss: 0.3350 - val_accuracy: 0.8633\n",
            "Epoch 10/100\n",
            "536/536 [==============================] - 4s 7ms/step - loss: 0.3625 - accuracy: 0.8550 - val_loss: 0.3347 - val_accuracy: 0.8622\n",
            "Epoch 11/100\n",
            "536/536 [==============================] - 3s 5ms/step - loss: 0.3626 - accuracy: 0.8528 - val_loss: 0.3351 - val_accuracy: 0.8622\n",
            "Epoch 12/100\n",
            "536/536 [==============================] - 2s 4ms/step - loss: 0.3604 - accuracy: 0.8524 - val_loss: 0.3346 - val_accuracy: 0.8622\n",
            "Epoch 13/100\n",
            "536/536 [==============================] - 2s 4ms/step - loss: 0.3588 - accuracy: 0.8528 - val_loss: 0.3360 - val_accuracy: 0.8637\n",
            "Epoch 14/100\n",
            "536/536 [==============================] - 2s 5ms/step - loss: 0.3613 - accuracy: 0.8530 - val_loss: 0.3341 - val_accuracy: 0.8633\n",
            "Epoch 15/100\n",
            "536/536 [==============================] - 3s 5ms/step - loss: 0.3610 - accuracy: 0.8515 - val_loss: 0.3359 - val_accuracy: 0.8618\n",
            "Epoch 16/100\n",
            "536/536 [==============================] - 3s 6ms/step - loss: 0.3618 - accuracy: 0.8545 - val_loss: 0.3375 - val_accuracy: 0.8610\n",
            "Epoch 17/100\n",
            "536/536 [==============================] - 2s 4ms/step - loss: 0.3646 - accuracy: 0.8468 - val_loss: 0.3345 - val_accuracy: 0.8626\n",
            "Epoch 18/100\n",
            "536/536 [==============================] - 2s 5ms/step - loss: 0.3644 - accuracy: 0.8505 - val_loss: 0.3357 - val_accuracy: 0.8629\n",
            "Epoch 19/100\n",
            "536/536 [==============================] - 2s 5ms/step - loss: 0.3688 - accuracy: 0.8535 - val_loss: 0.3355 - val_accuracy: 0.8614\n",
            "Epoch 20/100\n",
            "536/536 [==============================] - 2s 4ms/step - loss: 0.3589 - accuracy: 0.8472 - val_loss: 0.3370 - val_accuracy: 0.8618\n",
            "Epoch 21/100\n",
            "536/536 [==============================] - 3s 6ms/step - loss: 0.3592 - accuracy: 0.8522 - val_loss: 0.3374 - val_accuracy: 0.8622\n",
            "Epoch 22/100\n",
            "536/536 [==============================] - 3s 6ms/step - loss: 0.3599 - accuracy: 0.8550 - val_loss: 0.3368 - val_accuracy: 0.8641\n",
            "Epoch 23/100\n",
            "536/536 [==============================] - 3s 5ms/step - loss: 0.3610 - accuracy: 0.8537 - val_loss: 0.3356 - val_accuracy: 0.8618\n",
            "Epoch 24/100\n",
            "536/536 [==============================] - 2s 5ms/step - loss: 0.3589 - accuracy: 0.8556 - val_loss: 0.3367 - val_accuracy: 0.8629\n",
            "Epoch 25/100\n",
            "536/536 [==============================] - 2s 4ms/step - loss: 0.3649 - accuracy: 0.8492 - val_loss: 0.3365 - val_accuracy: 0.8652\n",
            "Epoch 26/100\n",
            "536/536 [==============================] - 2s 4ms/step - loss: 0.3606 - accuracy: 0.8500 - val_loss: 0.3344 - val_accuracy: 0.8637\n",
            "Epoch 27/100\n",
            "536/536 [==============================] - 4s 7ms/step - loss: 0.3570 - accuracy: 0.8533 - val_loss: 0.3351 - val_accuracy: 0.8644\n",
            "Epoch 28/100\n",
            "536/536 [==============================] - 3s 5ms/step - loss: 0.3642 - accuracy: 0.8563 - val_loss: 0.3379 - val_accuracy: 0.8610\n",
            "Epoch 29/100\n",
            "536/536 [==============================] - 2s 4ms/step - loss: 0.3595 - accuracy: 0.8509 - val_loss: 0.3375 - val_accuracy: 0.8626\n",
            "Epoch 30/100\n",
            "536/536 [==============================] - 2s 4ms/step - loss: 0.3592 - accuracy: 0.8531 - val_loss: 0.3360 - val_accuracy: 0.8622\n",
            "Epoch 31/100\n",
            "536/536 [==============================] - 3s 5ms/step - loss: 0.3628 - accuracy: 0.8492 - val_loss: 0.3372 - val_accuracy: 0.8618\n",
            "Epoch 32/100\n",
            "536/536 [==============================] - 4s 7ms/step - loss: 0.3615 - accuracy: 0.8496 - val_loss: 0.3376 - val_accuracy: 0.8603\n",
            "Epoch 33/100\n",
            "536/536 [==============================] - 3s 5ms/step - loss: 0.3625 - accuracy: 0.8517 - val_loss: 0.3361 - val_accuracy: 0.8603\n",
            "Epoch 34/100\n",
            "536/536 [==============================] - 2s 5ms/step - loss: 0.3564 - accuracy: 0.8481 - val_loss: 0.3345 - val_accuracy: 0.8637\n",
            "Epoch 35/100\n",
            "536/536 [==============================] - 3s 5ms/step - loss: 0.3602 - accuracy: 0.8477 - val_loss: 0.3389 - val_accuracy: 0.8599\n",
            "Epoch 36/100\n",
            "536/536 [==============================] - 2s 5ms/step - loss: 0.3606 - accuracy: 0.8556 - val_loss: 0.3377 - val_accuracy: 0.8618\n",
            "Epoch 37/100\n",
            "536/536 [==============================] - 3s 5ms/step - loss: 0.3630 - accuracy: 0.8533 - val_loss: 0.3389 - val_accuracy: 0.8626\n",
            "Epoch 38/100\n",
            "536/536 [==============================] - 4s 7ms/step - loss: 0.3600 - accuracy: 0.8511 - val_loss: 0.3378 - val_accuracy: 0.8622\n",
            "Epoch 39/100\n",
            "536/536 [==============================] - 2s 4ms/step - loss: 0.3614 - accuracy: 0.8518 - val_loss: 0.3378 - val_accuracy: 0.8626\n",
            "Epoch 40/100\n",
            "536/536 [==============================] - 2s 4ms/step - loss: 0.3586 - accuracy: 0.8548 - val_loss: 0.3386 - val_accuracy: 0.8595\n",
            "Epoch 41/100\n",
            "536/536 [==============================] - 2s 5ms/step - loss: 0.3576 - accuracy: 0.8528 - val_loss: 0.3382 - val_accuracy: 0.8633\n",
            "Epoch 42/100\n",
            "536/536 [==============================] - 2s 4ms/step - loss: 0.3582 - accuracy: 0.8533 - val_loss: 0.3389 - val_accuracy: 0.8622\n",
            "Epoch 43/100\n",
            "536/536 [==============================] - 4s 7ms/step - loss: 0.3565 - accuracy: 0.8552 - val_loss: 0.3377 - val_accuracy: 0.8614\n",
            "Epoch 44/100\n",
            "536/536 [==============================] - 3s 5ms/step - loss: 0.3629 - accuracy: 0.8533 - val_loss: 0.3364 - val_accuracy: 0.8637\n",
            "Epoch 45/100\n",
            "536/536 [==============================] - 2s 4ms/step - loss: 0.3604 - accuracy: 0.8533 - val_loss: 0.3386 - val_accuracy: 0.8626\n",
            "Epoch 46/100\n",
            "536/536 [==============================] - 2s 4ms/step - loss: 0.3639 - accuracy: 0.8531 - val_loss: 0.3365 - val_accuracy: 0.8622\n",
            "Epoch 47/100\n",
            "536/536 [==============================] - 2s 4ms/step - loss: 0.3670 - accuracy: 0.8515 - val_loss: 0.3363 - val_accuracy: 0.8648\n",
            "Epoch 48/100\n",
            "536/536 [==============================] - 3s 5ms/step - loss: 0.3616 - accuracy: 0.8500 - val_loss: 0.3357 - val_accuracy: 0.8622\n",
            "Epoch 49/100\n",
            "536/536 [==============================] - 4s 7ms/step - loss: 0.3600 - accuracy: 0.8524 - val_loss: 0.3369 - val_accuracy: 0.8599\n",
            "Epoch 50/100\n",
            "536/536 [==============================] - 2s 4ms/step - loss: 0.3613 - accuracy: 0.8550 - val_loss: 0.3374 - val_accuracy: 0.8633\n",
            "Epoch 51/100\n",
            "536/536 [==============================] - 2s 4ms/step - loss: 0.3619 - accuracy: 0.8537 - val_loss: 0.3365 - val_accuracy: 0.8626\n",
            "Epoch 52/100\n",
            "536/536 [==============================] - 3s 5ms/step - loss: 0.3614 - accuracy: 0.8522 - val_loss: 0.3369 - val_accuracy: 0.8633\n",
            "Epoch 53/100\n",
            "536/536 [==============================] - 3s 5ms/step - loss: 0.3581 - accuracy: 0.8528 - val_loss: 0.3383 - val_accuracy: 0.8622\n",
            "Epoch 54/100\n",
            "536/536 [==============================] - 4s 7ms/step - loss: 0.3628 - accuracy: 0.8522 - val_loss: 0.3387 - val_accuracy: 0.8614\n",
            "Epoch 55/100\n",
            "536/536 [==============================] - 3s 5ms/step - loss: 0.3572 - accuracy: 0.8567 - val_loss: 0.3395 - val_accuracy: 0.8633\n",
            "Epoch 56/100\n",
            "536/536 [==============================] - 2s 4ms/step - loss: 0.3569 - accuracy: 0.8545 - val_loss: 0.3380 - val_accuracy: 0.8633\n",
            "Epoch 57/100\n",
            "536/536 [==============================] - 3s 5ms/step - loss: 0.3462 - accuracy: 0.8572 - val_loss: 0.3367 - val_accuracy: 0.8622\n",
            "Epoch 58/100\n",
            "536/536 [==============================] - 3s 5ms/step - loss: 0.3572 - accuracy: 0.8558 - val_loss: 0.3387 - val_accuracy: 0.8648\n",
            "Epoch 59/100\n",
            "536/536 [==============================] - 4s 7ms/step - loss: 0.3619 - accuracy: 0.8492 - val_loss: 0.3395 - val_accuracy: 0.8610\n",
            "Epoch 60/100\n",
            "536/536 [==============================] - 3s 5ms/step - loss: 0.3587 - accuracy: 0.8528 - val_loss: 0.3386 - val_accuracy: 0.8622\n",
            "Epoch 61/100\n",
            "536/536 [==============================] - 3s 5ms/step - loss: 0.3621 - accuracy: 0.8505 - val_loss: 0.3365 - val_accuracy: 0.8648\n",
            "Epoch 62/100\n",
            "536/536 [==============================] - 2s 4ms/step - loss: 0.3588 - accuracy: 0.8537 - val_loss: 0.3378 - val_accuracy: 0.8637\n",
            "Epoch 63/100\n",
            "536/536 [==============================] - 3s 5ms/step - loss: 0.3542 - accuracy: 0.8552 - val_loss: 0.3377 - val_accuracy: 0.8622\n",
            "Epoch 64/100\n",
            "536/536 [==============================] - 3s 6ms/step - loss: 0.3615 - accuracy: 0.8559 - val_loss: 0.3371 - val_accuracy: 0.8633\n",
            "Epoch 65/100\n",
            "536/536 [==============================] - 3s 6ms/step - loss: 0.3627 - accuracy: 0.8481 - val_loss: 0.3402 - val_accuracy: 0.8618\n",
            "Epoch 66/100\n",
            "536/536 [==============================] - 2s 4ms/step - loss: 0.3586 - accuracy: 0.8559 - val_loss: 0.3382 - val_accuracy: 0.8622\n",
            "Epoch 67/100\n",
            "536/536 [==============================] - 2s 4ms/step - loss: 0.3539 - accuracy: 0.8558 - val_loss: 0.3366 - val_accuracy: 0.8614\n",
            "Epoch 68/100\n",
            "536/536 [==============================] - 2s 4ms/step - loss: 0.3604 - accuracy: 0.8535 - val_loss: 0.3377 - val_accuracy: 0.8629\n",
            "Epoch 69/100\n",
            "536/536 [==============================] - 3s 6ms/step - loss: 0.3557 - accuracy: 0.8550 - val_loss: 0.3365 - val_accuracy: 0.8641\n",
            "Epoch 70/100\n",
            "536/536 [==============================] - 3s 6ms/step - loss: 0.3647 - accuracy: 0.8505 - val_loss: 0.3355 - val_accuracy: 0.8614\n",
            "Epoch 71/100\n",
            "536/536 [==============================] - 3s 5ms/step - loss: 0.3543 - accuracy: 0.8552 - val_loss: 0.3362 - val_accuracy: 0.8610\n",
            "Epoch 72/100\n",
            "536/536 [==============================] - 3s 5ms/step - loss: 0.3605 - accuracy: 0.8511 - val_loss: 0.3362 - val_accuracy: 0.8637\n",
            "Epoch 73/100\n",
            "536/536 [==============================] - 3s 5ms/step - loss: 0.3594 - accuracy: 0.8533 - val_loss: 0.3362 - val_accuracy: 0.8618\n",
            "Epoch 74/100\n",
            "536/536 [==============================] - 3s 6ms/step - loss: 0.3578 - accuracy: 0.8558 - val_loss: 0.3385 - val_accuracy: 0.8622\n",
            "Epoch 75/100\n",
            "536/536 [==============================] - 3s 6ms/step - loss: 0.3572 - accuracy: 0.8565 - val_loss: 0.3388 - val_accuracy: 0.8637\n",
            "Epoch 76/100\n",
            "536/536 [==============================] - 2s 4ms/step - loss: 0.3547 - accuracy: 0.8558 - val_loss: 0.3407 - val_accuracy: 0.8622\n",
            "Epoch 77/100\n",
            "536/536 [==============================] - 2s 5ms/step - loss: 0.3570 - accuracy: 0.8554 - val_loss: 0.3391 - val_accuracy: 0.8626\n",
            "Epoch 78/100\n",
            "536/536 [==============================] - 2s 4ms/step - loss: 0.3592 - accuracy: 0.8569 - val_loss: 0.3388 - val_accuracy: 0.8626\n",
            "Epoch 79/100\n",
            "536/536 [==============================] - 2s 5ms/step - loss: 0.3515 - accuracy: 0.8593 - val_loss: 0.3384 - val_accuracy: 0.8629\n",
            "Epoch 80/100\n",
            "536/536 [==============================] - 4s 7ms/step - loss: 0.3574 - accuracy: 0.8541 - val_loss: 0.3375 - val_accuracy: 0.8660\n",
            "Epoch 81/100\n",
            "536/536 [==============================] - 3s 5ms/step - loss: 0.3590 - accuracy: 0.8502 - val_loss: 0.3374 - val_accuracy: 0.8648\n",
            "Epoch 82/100\n",
            "536/536 [==============================] - 2s 5ms/step - loss: 0.3550 - accuracy: 0.8539 - val_loss: 0.3363 - val_accuracy: 0.8637\n",
            "Epoch 83/100\n",
            "536/536 [==============================] - 2s 4ms/step - loss: 0.3628 - accuracy: 0.8507 - val_loss: 0.3378 - val_accuracy: 0.8644\n",
            "Epoch 84/100\n",
            "536/536 [==============================] - 2s 5ms/step - loss: 0.3596 - accuracy: 0.8569 - val_loss: 0.3359 - val_accuracy: 0.8626\n",
            "Epoch 85/100\n",
            "536/536 [==============================] - 3s 6ms/step - loss: 0.3565 - accuracy: 0.8582 - val_loss: 0.3368 - val_accuracy: 0.8626\n",
            "Epoch 86/100\n",
            "536/536 [==============================] - 3s 5ms/step - loss: 0.3551 - accuracy: 0.8498 - val_loss: 0.3366 - val_accuracy: 0.8610\n",
            "Epoch 87/100\n",
            "536/536 [==============================] - 2s 4ms/step - loss: 0.3573 - accuracy: 0.8569 - val_loss: 0.3367 - val_accuracy: 0.8626\n",
            "Epoch 88/100\n",
            "536/536 [==============================] - 2s 4ms/step - loss: 0.3574 - accuracy: 0.8530 - val_loss: 0.3371 - val_accuracy: 0.8641\n",
            "Epoch 89/100\n",
            "536/536 [==============================] - 3s 5ms/step - loss: 0.3594 - accuracy: 0.8546 - val_loss: 0.3378 - val_accuracy: 0.8644\n",
            "Epoch 90/100\n",
            "536/536 [==============================] - 4s 7ms/step - loss: 0.3530 - accuracy: 0.8548 - val_loss: 0.3364 - val_accuracy: 0.8641\n",
            "Epoch 91/100\n",
            "536/536 [==============================] - 3s 6ms/step - loss: 0.3542 - accuracy: 0.8537 - val_loss: 0.3379 - val_accuracy: 0.8633\n",
            "Epoch 92/100\n",
            "536/536 [==============================] - 2s 4ms/step - loss: 0.3532 - accuracy: 0.8526 - val_loss: 0.3375 - val_accuracy: 0.8637\n",
            "Epoch 93/100\n",
            "536/536 [==============================] - 2s 5ms/step - loss: 0.3545 - accuracy: 0.8574 - val_loss: 0.3374 - val_accuracy: 0.8641\n",
            "Epoch 94/100\n",
            "536/536 [==============================] - 3s 5ms/step - loss: 0.3561 - accuracy: 0.8539 - val_loss: 0.3375 - val_accuracy: 0.8660\n",
            "Epoch 95/100\n",
            "536/536 [==============================] - 2s 5ms/step - loss: 0.3555 - accuracy: 0.8490 - val_loss: 0.3378 - val_accuracy: 0.8644\n",
            "Epoch 96/100\n",
            "536/536 [==============================] - 4s 7ms/step - loss: 0.3608 - accuracy: 0.8522 - val_loss: 0.3376 - val_accuracy: 0.8633\n",
            "Epoch 97/100\n",
            "536/536 [==============================] - 2s 4ms/step - loss: 0.3538 - accuracy: 0.8574 - val_loss: 0.3366 - val_accuracy: 0.8641\n",
            "Epoch 98/100\n",
            "536/536 [==============================] - 2s 5ms/step - loss: 0.3522 - accuracy: 0.8599 - val_loss: 0.3397 - val_accuracy: 0.8637\n",
            "Epoch 99/100\n",
            "536/536 [==============================] - 2s 4ms/step - loss: 0.3532 - accuracy: 0.8554 - val_loss: 0.3375 - val_accuracy: 0.8626\n",
            "Epoch 100/100\n",
            "536/536 [==============================] - 3s 5ms/step - loss: 0.3514 - accuracy: 0.8599 - val_loss: 0.3388 - val_accuracy: 0.8637\n"
          ]
        },
        {
          "output_type": "execute_result",
          "data": {
            "text/plain": [
              "<keras.callbacks.History at 0x7fc9e77c53a0>"
            ]
          },
          "metadata": {},
          "execution_count": 63
        }
      ]
    },
    {
      "cell_type": "code",
      "source": [
        "# plot the model accuracy\n",
        "plt.plot(history.history['accuracy'])\n",
        "plt.plot(history.history['val_accuracy'])\n",
        "plt.title('Model Accuracy')\n",
        "plt.ylabel('Accuracy')\n",
        "plt.xlabel('Epoch')\n",
        "plt.ylim([0.8, 1])\n",
        "plt.legend(['Train', 'Test'], loc='upper left')\n",
        "plt.show()"
      ],
      "metadata": {
        "id": "uiAW56uALrD4",
        "colab": {
          "base_uri": "https://localhost:8080/",
          "height": 472
        },
        "outputId": "34cc436f-746d-41c0-ca6b-2b41be26e007"
      },
      "execution_count": 72,
      "outputs": [
        {
          "output_type": "display_data",
          "data": {
            "text/plain": [
              "<Figure size 640x480 with 1 Axes>"
            ],
            "image/png": "[encoded data removed]"
          },
          "metadata": {}
        }
      ]
    },
    {
      "cell_type": "code",
      "source": [
        "# summarize history for loss\n",
        "plt.plot(history.history['loss'])\n",
        "plt.plot(history.history['val_loss'])\n",
        "plt.title('model loss')\n",
        "plt.ylabel('loss')\n",
        "plt.xlabel('epoch')\n",
        "plt.ylim([0.2, 0.5])\n",
        "plt.legend(['train', 'test'], loc='upper left')\n",
        "plt.show()"
      ],
      "metadata": {
        "id": "XMWYzJJ4fLJT",
        "colab": {
          "base_uri": "https://localhost:8080/",
          "height": 472
        },
        "outputId": "18890b97-b7f6-463d-efa4-bf2bb6d533d0"
      },
      "execution_count": 73,
      "outputs": [
        {
          "output_type": "display_data",
          "data": {
            "text/plain": [
              "<Figure size 640x480 with 1 Axes>"
            ],
            "image/png": "[encoded data removed]"
          },
          "metadata": {}
        }
      ]
    },
    {
      "cell_type": "code",
      "source": [
        "# Predicting the Test set results\n",
        "pred_y = grid.predict(X_test)\n",
        "y_pred = (pred_y > 0.5)"
      ],
      "metadata": {
        "id": "FbkLfg22BCcS",
        "colab": {
          "base_uri": "https://localhost:8080/"
        },
        "outputId": "26806d3b-d3aa-4a11-9c9c-6d7dce7e0ed5"
      },
      "execution_count": 68,
      "outputs": [
        {
          "output_type": "stream",
          "name": "stdout",
          "text": [
            "63/63 [==============================] - 1s 4ms/step\n"
          ]
        }
      ]
    },
    {
      "cell_type": "code",
      "source": [
        "# Making the Confusion Matrix\n",
        "y_pred_array = np.array(y_pred)\n",
        "y_test_array = np.array(y_test)\n",
        "names = np.unique(y_pred)\n",
        "\n",
        "cm_2 = confusion_matrix(y_test_array, y_pred_array)\n",
        "\n",
        "disp_2 = ConfusionMatrixDisplay(confusion_matrix=cm_2, display_labels=names)\n",
        "\n",
        "disp_2.plot(cmap=plt.cm.Blues)\n",
        "plt.show()"
      ],
      "metadata": {
        "id": "pXJgI9beBPfb",
        "colab": {
          "base_uri": "https://localhost:8080/",
          "height": 449
        },
        "outputId": "461144ae-7ddd-4697-d036-a5ca3ce0aa0b"
      },
      "execution_count": 69,
      "outputs": [
        {
          "output_type": "display_data",
          "data": {
            "text/plain": [
              "<Figure size 640x480 with 2 Axes>"
            ],
            "image/png": "[encoded data removed]"
          },
          "metadata": {}
        }
      ]
    },
    {
      "cell_type": "code",
      "source": [
        "from sklearn.metrics import accuracy_score\n",
        "score_2=accuracy_score(y_pred,y_test)\n",
        "score_2"
      ],
      "metadata": {
        "id": "qwrXodeTBu5W",
        "colab": {
          "base_uri": "https://localhost:8080/"
        },
        "outputId": "6ab376bc-91b5-452e-f6e9-55f1b1b11956"
      },
      "execution_count": 70,
      "outputs": [
        {
          "output_type": "execute_result",
          "data": {
            "text/plain": [
              "0.8575"
            ]
          },
          "metadata": {},
          "execution_count": 70
        }
      ]
    },
    {
      "cell_type": "code",
      "source": [
        "#Making Classification Report\n",
        "labels = [\"0-False\", \"1-True\"]\n",
        "print(classification_report(\n",
        "  y_test_array, \n",
        "  y_pred_array, \n",
        "  target_names=labels, \n",
        "  zero_division=0\n",
        "))"
      ],
      "metadata": {
        "id": "yHR5j2kVB5IW",
        "colab": {
          "base_uri": "https://localhost:8080/"
        },
        "outputId": "efd9a27a-3b66-4d81-b762-85dd03732b4f"
      },
      "execution_count": 71,
      "outputs": [
        {
          "output_type": "stream",
          "name": "stdout",
          "text": [
            "              precision    recall  f1-score   support\n",
            "\n",
            "     0-False       0.87      0.97      0.92      1588\n",
            "      1-True       0.78      0.43      0.55       412\n",
            "\n",
            "    accuracy                           0.86      2000\n",
            "   macro avg       0.82      0.70      0.73      2000\n",
            "weighted avg       0.85      0.86      0.84      2000\n",
            "\n"
          ]
        }
      ]
    },
    {
      "cell_type": "markdown",
      "source": [
        "**Conclusion**\n",
        "\n",
        "Both Model 1 and Model 2 appear to have performed similarly well in terms of precision, recall, f1-score, and accuracy. However, there are some slight differences in their performance, as can be seen below:\n",
        "\n",
        "**Precision**: The precision of both models for predicting class 1 is the same at 0.76 and 0.78 for Model 1 and Model 2, respectively, indicating that the models have a similar ability to correctly predict positive instances. However, the precision for predicting class 0 is slightly better for Model 2 at 0.87 compared to 0.86 for Model 1.\n",
        "\n",
        "**Recall**: The recall of both models for predicting class 1 is quite different, with Model 1 having a higher recall at 0.41 compared to 0.43 for Model 2, indicating that Model 1 has a better ability to identify positive instances. However, the recall for predicting class 0 is the same for both models at 0.97, indicating that the models have a similar ability to identify negative instances.\n",
        "\n",
        "**F1-score:** The F1-score is the harmonic mean of precision and recall, and therefore, it takes into account both precision and recall. The F1-score for predicting class 1 is slightly better for Model 2 at 0.55 compared to 0.53 for Model 1. However, the F1-score for predicting class 0 is the same for both models at 0.91.\n",
        "\n",
        "**Accuracy**: The accuracy of both models is quite similar, with Model 2 having a slightly higher accuracy at 0.8575 compared to 0.8525 for Model 1.\n",
        "\n",
        "Overall, both models have performed similarly well, but Model 2 appears to have slightly better performance in terms of precision for predicting class 0 and F1-score for predicting class 1, and a slightly higher accuracy. However, the recall for predicting class 1 is slightly better for Model 1.\n",
        "\n",
        "\n",
        "\n",
        "\n",
        "\n",
        "\n",
        "\n",
        "\n",
        "\n"
      ],
      "metadata": {
        "id": "mu4m6YHa9ZFv"
      }
    },
    {
      "cell_type": "markdown",
      "source": [
        "**Post Class Presentation Feedback**\n",
        "\n",
        "**Feedback**: Professor suggested to recheck hyperparameters given in grid search CV in Model 2 implementation. During presentation Epoch was set to 100 which was causing high variance in model accuracy and model loss on training and validation dataset. There was no implementation of batch normalization, and learning rate.\n",
        "\n",
        "**New Implementation:** Re-designed the hidden layer, batch size , epochs and added cross validation to 5. Ran Model 2 with multiple permuatation and combination of layers, batch size, epochs. Final Model 2 took approximatly 3 hours to train on best parameters given by grid search cv. Model 2 gave accuracy of 86% on training and validation set and accuracy of 85.75% on test set. Model Accuracy and Model Loss on training and validation set remain stable between 85% - 86% and 33%-38% respectively."
      ],
      "metadata": {
        "id": "4UV5nMxVwF3x"
      }
    }
  ]
}